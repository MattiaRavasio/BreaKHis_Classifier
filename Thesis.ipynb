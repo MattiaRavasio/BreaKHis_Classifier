{
  "cells": [
    {
      "cell_type": "markdown",
      "id": "d825ed17",
      "metadata": {
        "id": "d825ed17"
      },
      "source": [
        "# Thesis\n",
        "## Mattia Ravasio - BEMACS - id: 3117908\n",
        "## Breast Cancer recognition trough deep learning\n",
        "\n"
      ]
    },
    {
      "cell_type": "markdown",
      "id": "FZiccfUEf8mQ",
      "metadata": {
        "id": "FZiccfUEf8mQ"
      },
      "source": [
        "This is the juoyter notebook for my bachelore thesis, in which a CNN application for the [BreaKHis](https://web.inf.ufpr.br/vri/databases/breast-cancer-histopathological-database-breakhis/) dataset will be discussed. The models were run in PyTorch on Google Colab. All the auxiliary functions imported in this notebook can be found on the GitHub repository."
      ]
    },
    {
      "cell_type": "markdown",
      "id": "B9TwcioZxMiC",
      "metadata": {
        "id": "B9TwcioZxMiC"
      },
      "source": [
        "## Environment set-up"
      ]
    },
    {
      "cell_type": "code",
      "execution_count": 8,
      "id": "a31de127",
      "metadata": {
        "id": "a31de127"
      },
      "outputs": [],
      "source": [
        "import pandas as pd\n",
        "import numpy as np\n",
        "import seaborn as sns\n",
        "import matplotlib.pyplot as plt\n",
        "import os \n",
        "from PIL import Image\n",
        "import torch"
      ]
    },
    {
      "cell_type": "code",
      "execution_count": 1,
      "id": "HbXlgIstloPk",
      "metadata": {
        "colab": {
          "base_uri": "https://localhost:8080/"
        },
        "id": "HbXlgIstloPk",
        "outputId": "0996e945-c5cd-48d0-e8d4-67209aa9824d"
      },
      "outputs": [
        {
          "name": "stdout",
          "output_type": "stream",
          "text": [
            "Mounted at /content/drive\n"
          ]
        }
      ],
      "source": [
        "from google.colab import drive\n",
        "drive.mount('/content/drive')"
      ]
    },
    {
      "cell_type": "code",
      "execution_count": null,
      "id": "1dfa3759",
      "metadata": {
        "id": "1dfa3759"
      },
      "outputs": [],
      "source": [
        "!unzip /content/drive/MyDrive/thesis_balanced.zip -d path_to_directory"
      ]
    },
    {
      "cell_type": "markdown",
      "id": "LnSWg5_fxvCd",
      "metadata": {
        "id": "LnSWg5_fxvCd"
      },
      "source": [
        "#### Check for CUDA version "
      ]
    },
    {
      "cell_type": "code",
      "execution_count": 3,
      "id": "05af5396",
      "metadata": {
        "colab": {
          "base_uri": "https://localhost:8080/"
        },
        "id": "05af5396",
        "outputId": "8aa9fd2b-f700-4481-ef56-b1233692317e"
      },
      "outputs": [
        {
          "name": "stdout",
          "output_type": "stream",
          "text": [
            "nvcc: NVIDIA (R) Cuda compiler driver\n",
            "Copyright (c) 2005-2020 NVIDIA Corporation\n",
            "Built on Mon_Oct_12_20:09:46_PDT_2020\n",
            "Cuda compilation tools, release 11.1, V11.1.105\n",
            "Build cuda_11.1.TC455_06.29190527_0\n"
          ]
        }
      ],
      "source": [
        "! nvcc --version"
      ]
    },
    {
      "cell_type": "code",
      "execution_count": 4,
      "id": "a371c49b",
      "metadata": {
        "colab": {
          "base_uri": "https://localhost:8080/"
        },
        "id": "a371c49b",
        "outputId": "ae9e3c6d-c2e4-498c-ddc3-f94b92644e41"
      },
      "outputs": [
        {
          "name": "stdout",
          "output_type": "stream",
          "text": [
            "Looking in indexes: https://pypi.org/simple, https://us-python.pkg.dev/colab-wheels/public/simple/\n",
            "Collecting git+https://github.com/andreinechaev/nvcc4jupyter.git\n",
            "  Cloning https://github.com/andreinechaev/nvcc4jupyter.git to /tmp/pip-req-build-fn5m9_e3\n",
            "  Running command git clone -q https://github.com/andreinechaev/nvcc4jupyter.git /tmp/pip-req-build-fn5m9_e3\n",
            "Building wheels for collected packages: NVCCPlugin\n",
            "  Building wheel for NVCCPlugin (setup.py) ... \u001b[?25l\u001b[?25hdone\n",
            "  Created wheel for NVCCPlugin: filename=NVCCPlugin-0.0.2-py3-none-any.whl size=4306 sha256=9efb94fdb1121a7c59ee9ad5197a29b89e5907c50de28a28c2ae1a158c04ebfd\n",
            "  Stored in directory: /tmp/pip-ephem-wheel-cache-pokho8l0/wheels/ca/33/8d/3c86eb85e97d2b6169d95c6e8f2c297fdec60db6e84cb56f5e\n",
            "Successfully built NVCCPlugin\n",
            "Installing collected packages: NVCCPlugin\n",
            "Successfully installed NVCCPlugin-0.0.2\n"
          ]
        }
      ],
      "source": [
        "!pip install git+https://github.com/andreinechaev/nvcc4jupyter.git"
      ]
    },
    {
      "cell_type": "code",
      "execution_count": 5,
      "id": "ecd2194c",
      "metadata": {
        "colab": {
          "base_uri": "https://localhost:8080/"
        },
        "id": "ecd2194c",
        "outputId": "c24e6ce6-6ec4-4078-dacc-35c6e9b1bab2"
      },
      "outputs": [
        {
          "name": "stdout",
          "output_type": "stream",
          "text": [
            "created output directory at /content/src\n",
            "Out bin /content/result.out\n"
          ]
        }
      ],
      "source": [
        "%load_ext nvcc_plugin"
      ]
    },
    {
      "cell_type": "code",
      "execution_count": 6,
      "id": "363c8b03",
      "metadata": {
        "colab": {
          "base_uri": "https://localhost:8080/"
        },
        "id": "363c8b03",
        "outputId": "ea3bc7cc-8c84-45e0-cde1-bf16053f7b1e"
      },
      "outputs": [
        {
          "name": "stdout",
          "output_type": "stream",
          "text": [
            "CUDA is activated\n",
            "\n"
          ]
        }
      ],
      "source": [
        "%%cu\n",
        "#include <iostream>\n",
        "    int\n",
        "    main()\n",
        "{\n",
        "    std::cout << \"CUDA is activated\\n\";\n",
        "    return 0;\n",
        "}"
      ]
    },
    {
      "cell_type": "markdown",
      "id": "Z22rtoqixlGK",
      "metadata": {
        "id": "Z22rtoqixlGK"
      },
      "source": [
        "#### Auxiliary functions import:"
      ]
    },
    {
      "cell_type": "code",
      "execution_count": 7,
      "id": "8a99e17f",
      "metadata": {
        "id": "8a99e17f"
      },
      "outputs": [],
      "source": [
        "from stats import compute_mean_and_std\n",
        "from data_trasforms import get_fundamental_transforms, get_data_augmentation_transforms, get_efficent_augmentation_transforms\n",
        "from simple_net import SimpleNet\n",
        "from optimizer import get_optimizer\n",
        "from dataset_generator import dataset_generator\n",
        "from runner import Trainer\n",
        "from get_alexnet_dataframe import get_frame_from_data_alex"
      ]
    },
    {
      "cell_type": "markdown",
      "id": "0ef4dfcb",
      "metadata": {
        "id": "0ef4dfcb"
      },
      "source": [
        "### Introductory dataset analysis"
      ]
    },
    {
      "cell_type": "code",
      "execution_count": 9,
      "id": "66c7477a",
      "metadata": {
        "colab": {
          "base_uri": "https://localhost:8080/",
          "height": 424
        },
        "id": "66c7477a",
        "outputId": "71ea2238-34f0-426a-b477-95fa3ba854c2"
      },
      "outputs": [
        {
          "data": {
            "text/html": [
              "\n",
              "  <div id=\"df-bdd1ba8a-569b-4953-8b7b-b5e96d343f4b\">\n",
              "    <div class=\"colab-df-container\">\n",
              "      <div>\n",
              "<style scoped>\n",
              "    .dataframe tbody tr th:only-of-type {\n",
              "        vertical-align: middle;\n",
              "    }\n",
              "\n",
              "    .dataframe tbody tr th {\n",
              "        vertical-align: top;\n",
              "    }\n",
              "\n",
              "    .dataframe thead th {\n",
              "        text-align: right;\n",
              "    }\n",
              "</style>\n",
              "<table border=\"1\" class=\"dataframe\">\n",
              "  <thead>\n",
              "    <tr style=\"text-align: right;\">\n",
              "      <th></th>\n",
              "      <th>fold</th>\n",
              "      <th>mag</th>\n",
              "      <th>grp</th>\n",
              "      <th>filename</th>\n",
              "    </tr>\n",
              "  </thead>\n",
              "  <tbody>\n",
              "    <tr>\n",
              "      <th>0</th>\n",
              "      <td>1</td>\n",
              "      <td>100</td>\n",
              "      <td>train</td>\n",
              "      <td>BreaKHis_v1/histology_slides/breast/benign/SOB...</td>\n",
              "    </tr>\n",
              "    <tr>\n",
              "      <th>1</th>\n",
              "      <td>1</td>\n",
              "      <td>100</td>\n",
              "      <td>train</td>\n",
              "      <td>BreaKHis_v1/histology_slides/breast/benign/SOB...</td>\n",
              "    </tr>\n",
              "    <tr>\n",
              "      <th>2</th>\n",
              "      <td>1</td>\n",
              "      <td>100</td>\n",
              "      <td>train</td>\n",
              "      <td>BreaKHis_v1/histology_slides/breast/benign/SOB...</td>\n",
              "    </tr>\n",
              "    <tr>\n",
              "      <th>3</th>\n",
              "      <td>1</td>\n",
              "      <td>100</td>\n",
              "      <td>train</td>\n",
              "      <td>BreaKHis_v1/histology_slides/breast/benign/SOB...</td>\n",
              "    </tr>\n",
              "    <tr>\n",
              "      <th>4</th>\n",
              "      <td>1</td>\n",
              "      <td>100</td>\n",
              "      <td>train</td>\n",
              "      <td>BreaKHis_v1/histology_slides/breast/benign/SOB...</td>\n",
              "    </tr>\n",
              "    <tr>\n",
              "      <th>...</th>\n",
              "      <td>...</td>\n",
              "      <td>...</td>\n",
              "      <td>...</td>\n",
              "      <td>...</td>\n",
              "    </tr>\n",
              "    <tr>\n",
              "      <th>39540</th>\n",
              "      <td>5</td>\n",
              "      <td>400</td>\n",
              "      <td>test</td>\n",
              "      <td>BreaKHis_v1/histology_slides/breast/malignant/...</td>\n",
              "    </tr>\n",
              "    <tr>\n",
              "      <th>39541</th>\n",
              "      <td>5</td>\n",
              "      <td>400</td>\n",
              "      <td>test</td>\n",
              "      <td>BreaKHis_v1/histology_slides/breast/malignant/...</td>\n",
              "    </tr>\n",
              "    <tr>\n",
              "      <th>39542</th>\n",
              "      <td>5</td>\n",
              "      <td>400</td>\n",
              "      <td>test</td>\n",
              "      <td>BreaKHis_v1/histology_slides/breast/malignant/...</td>\n",
              "    </tr>\n",
              "    <tr>\n",
              "      <th>39543</th>\n",
              "      <td>5</td>\n",
              "      <td>400</td>\n",
              "      <td>test</td>\n",
              "      <td>BreaKHis_v1/histology_slides/breast/malignant/...</td>\n",
              "    </tr>\n",
              "    <tr>\n",
              "      <th>39544</th>\n",
              "      <td>5</td>\n",
              "      <td>400</td>\n",
              "      <td>test</td>\n",
              "      <td>BreaKHis_v1/histology_slides/breast/malignant/...</td>\n",
              "    </tr>\n",
              "  </tbody>\n",
              "</table>\n",
              "<p>39545 rows × 4 columns</p>\n",
              "</div>\n",
              "      <button class=\"colab-df-convert\" onclick=\"convertToInteractive('df-bdd1ba8a-569b-4953-8b7b-b5e96d343f4b')\"\n",
              "              title=\"Convert this dataframe to an interactive table.\"\n",
              "              style=\"display:none;\">\n",
              "        \n",
              "  <svg xmlns=\"http://www.w3.org/2000/svg\" height=\"24px\"viewBox=\"0 0 24 24\"\n",
              "       width=\"24px\">\n",
              "    <path d=\"M0 0h24v24H0V0z\" fill=\"none\"/>\n",
              "    <path d=\"M18.56 5.44l.94 2.06.94-2.06 2.06-.94-2.06-.94-.94-2.06-.94 2.06-2.06.94zm-11 1L8.5 8.5l.94-2.06 2.06-.94-2.06-.94L8.5 2.5l-.94 2.06-2.06.94zm10 10l.94 2.06.94-2.06 2.06-.94-2.06-.94-.94-2.06-.94 2.06-2.06.94z\"/><path d=\"M17.41 7.96l-1.37-1.37c-.4-.4-.92-.59-1.43-.59-.52 0-1.04.2-1.43.59L10.3 9.45l-7.72 7.72c-.78.78-.78 2.05 0 2.83L4 21.41c.39.39.9.59 1.41.59.51 0 1.02-.2 1.41-.59l7.78-7.78 2.81-2.81c.8-.78.8-2.07 0-2.86zM5.41 20L4 18.59l7.72-7.72 1.47 1.35L5.41 20z\"/>\n",
              "  </svg>\n",
              "      </button>\n",
              "      \n",
              "  <style>\n",
              "    .colab-df-container {\n",
              "      display:flex;\n",
              "      flex-wrap:wrap;\n",
              "      gap: 12px;\n",
              "    }\n",
              "\n",
              "    .colab-df-convert {\n",
              "      background-color: #E8F0FE;\n",
              "      border: none;\n",
              "      border-radius: 50%;\n",
              "      cursor: pointer;\n",
              "      display: none;\n",
              "      fill: #1967D2;\n",
              "      height: 32px;\n",
              "      padding: 0 0 0 0;\n",
              "      width: 32px;\n",
              "    }\n",
              "\n",
              "    .colab-df-convert:hover {\n",
              "      background-color: #E2EBFA;\n",
              "      box-shadow: 0px 1px 2px rgba(60, 64, 67, 0.3), 0px 1px 3px 1px rgba(60, 64, 67, 0.15);\n",
              "      fill: #174EA6;\n",
              "    }\n",
              "\n",
              "    [theme=dark] .colab-df-convert {\n",
              "      background-color: #3B4455;\n",
              "      fill: #D2E3FC;\n",
              "    }\n",
              "\n",
              "    [theme=dark] .colab-df-convert:hover {\n",
              "      background-color: #434B5C;\n",
              "      box-shadow: 0px 1px 3px 1px rgba(0, 0, 0, 0.15);\n",
              "      filter: drop-shadow(0px 1px 2px rgba(0, 0, 0, 0.3));\n",
              "      fill: #FFFFFF;\n",
              "    }\n",
              "  </style>\n",
              "\n",
              "      <script>\n",
              "        const buttonEl =\n",
              "          document.querySelector('#df-bdd1ba8a-569b-4953-8b7b-b5e96d343f4b button.colab-df-convert');\n",
              "        buttonEl.style.display =\n",
              "          google.colab.kernel.accessAllowed ? 'block' : 'none';\n",
              "\n",
              "        async function convertToInteractive(key) {\n",
              "          const element = document.querySelector('#df-bdd1ba8a-569b-4953-8b7b-b5e96d343f4b');\n",
              "          const dataTable =\n",
              "            await google.colab.kernel.invokeFunction('convertToInteractive',\n",
              "                                                     [key], {});\n",
              "          if (!dataTable) return;\n",
              "\n",
              "          const docLinkHtml = 'Like what you see? Visit the ' +\n",
              "            '<a target=\"_blank\" href=https://colab.research.google.com/notebooks/data_table.ipynb>data table notebook</a>'\n",
              "            + ' to learn more about interactive tables.';\n",
              "          element.innerHTML = '';\n",
              "          dataTable['output_type'] = 'display_data';\n",
              "          await google.colab.output.renderOutput(dataTable, element);\n",
              "          const docLink = document.createElement('div');\n",
              "          docLink.innerHTML = docLinkHtml;\n",
              "          element.appendChild(docLink);\n",
              "        }\n",
              "      </script>\n",
              "    </div>\n",
              "  </div>\n",
              "  "
            ],
            "text/plain": [
              "       fold  mag    grp                                           filename\n",
              "0         1  100  train  BreaKHis_v1/histology_slides/breast/benign/SOB...\n",
              "1         1  100  train  BreaKHis_v1/histology_slides/breast/benign/SOB...\n",
              "2         1  100  train  BreaKHis_v1/histology_slides/breast/benign/SOB...\n",
              "3         1  100  train  BreaKHis_v1/histology_slides/breast/benign/SOB...\n",
              "4         1  100  train  BreaKHis_v1/histology_slides/breast/benign/SOB...\n",
              "...     ...  ...    ...                                                ...\n",
              "39540     5  400   test  BreaKHis_v1/histology_slides/breast/malignant/...\n",
              "39541     5  400   test  BreaKHis_v1/histology_slides/breast/malignant/...\n",
              "39542     5  400   test  BreaKHis_v1/histology_slides/breast/malignant/...\n",
              "39543     5  400   test  BreaKHis_v1/histology_slides/breast/malignant/...\n",
              "39544     5  400   test  BreaKHis_v1/histology_slides/breast/malignant/...\n",
              "\n",
              "[39545 rows x 4 columns]"
            ]
          },
          "execution_count": 9,
          "metadata": {},
          "output_type": "execute_result"
        }
      ],
      "source": [
        "df = pd.read_csv('/content/path_to_directory/thesis_balanced/archive/Folds.csv')\n",
        "df"
      ]
    },
    {
      "cell_type": "code",
      "execution_count": 10,
      "id": "a3836a30",
      "metadata": {
        "id": "a3836a30"
      },
      "outputs": [],
      "source": [
        "def classification(x):\n",
        "    return x.filename.split('/')[3]\n",
        "\n",
        "def zoom(x):\n",
        "    return x.filename.split('/')[7]\n",
        "\n",
        "def thumor(x):\n",
        "    return x.filename.split('/')[5]\n",
        "\n",
        "df['thumor']= df.apply(thumor, axis=1)\n",
        "\n",
        "df['zoom'] = df.apply(zoom, axis=1)\n",
        "    \n",
        "df['class']=df.apply(classification, axis=1)"
      ]
    },
    {
      "cell_type": "code",
      "execution_count": 11,
      "id": "496be54a",
      "metadata": {
        "colab": {
          "base_uri": "https://localhost:8080/",
          "height": 424
        },
        "id": "496be54a",
        "outputId": "c8f9dc73-f08f-4a01-c4b7-9686163388c2"
      },
      "outputs": [
        {
          "data": {
            "text/html": [
              "\n",
              "  <div id=\"df-e67caccc-882e-4566-8734-faaac674b423\">\n",
              "    <div class=\"colab-df-container\">\n",
              "      <div>\n",
              "<style scoped>\n",
              "    .dataframe tbody tr th:only-of-type {\n",
              "        vertical-align: middle;\n",
              "    }\n",
              "\n",
              "    .dataframe tbody tr th {\n",
              "        vertical-align: top;\n",
              "    }\n",
              "\n",
              "    .dataframe thead th {\n",
              "        text-align: right;\n",
              "    }\n",
              "</style>\n",
              "<table border=\"1\" class=\"dataframe\">\n",
              "  <thead>\n",
              "    <tr style=\"text-align: right;\">\n",
              "      <th></th>\n",
              "      <th>fold</th>\n",
              "      <th>mag</th>\n",
              "      <th>grp</th>\n",
              "      <th>filename</th>\n",
              "      <th>thumor</th>\n",
              "      <th>zoom</th>\n",
              "      <th>class</th>\n",
              "    </tr>\n",
              "  </thead>\n",
              "  <tbody>\n",
              "    <tr>\n",
              "      <th>0</th>\n",
              "      <td>1</td>\n",
              "      <td>100</td>\n",
              "      <td>train</td>\n",
              "      <td>BreaKHis_v1/histology_slides/breast/benign/SOB...</td>\n",
              "      <td>adenosis</td>\n",
              "      <td>100X</td>\n",
              "      <td>benign</td>\n",
              "    </tr>\n",
              "    <tr>\n",
              "      <th>1</th>\n",
              "      <td>1</td>\n",
              "      <td>100</td>\n",
              "      <td>train</td>\n",
              "      <td>BreaKHis_v1/histology_slides/breast/benign/SOB...</td>\n",
              "      <td>adenosis</td>\n",
              "      <td>100X</td>\n",
              "      <td>benign</td>\n",
              "    </tr>\n",
              "    <tr>\n",
              "      <th>2</th>\n",
              "      <td>1</td>\n",
              "      <td>100</td>\n",
              "      <td>train</td>\n",
              "      <td>BreaKHis_v1/histology_slides/breast/benign/SOB...</td>\n",
              "      <td>adenosis</td>\n",
              "      <td>100X</td>\n",
              "      <td>benign</td>\n",
              "    </tr>\n",
              "    <tr>\n",
              "      <th>3</th>\n",
              "      <td>1</td>\n",
              "      <td>100</td>\n",
              "      <td>train</td>\n",
              "      <td>BreaKHis_v1/histology_slides/breast/benign/SOB...</td>\n",
              "      <td>adenosis</td>\n",
              "      <td>100X</td>\n",
              "      <td>benign</td>\n",
              "    </tr>\n",
              "    <tr>\n",
              "      <th>4</th>\n",
              "      <td>1</td>\n",
              "      <td>100</td>\n",
              "      <td>train</td>\n",
              "      <td>BreaKHis_v1/histology_slides/breast/benign/SOB...</td>\n",
              "      <td>adenosis</td>\n",
              "      <td>100X</td>\n",
              "      <td>benign</td>\n",
              "    </tr>\n",
              "    <tr>\n",
              "      <th>...</th>\n",
              "      <td>...</td>\n",
              "      <td>...</td>\n",
              "      <td>...</td>\n",
              "      <td>...</td>\n",
              "      <td>...</td>\n",
              "      <td>...</td>\n",
              "      <td>...</td>\n",
              "    </tr>\n",
              "    <tr>\n",
              "      <th>39540</th>\n",
              "      <td>5</td>\n",
              "      <td>400</td>\n",
              "      <td>test</td>\n",
              "      <td>BreaKHis_v1/histology_slides/breast/malignant/...</td>\n",
              "      <td>papillary_carcinoma</td>\n",
              "      <td>400X</td>\n",
              "      <td>malignant</td>\n",
              "    </tr>\n",
              "    <tr>\n",
              "      <th>39541</th>\n",
              "      <td>5</td>\n",
              "      <td>400</td>\n",
              "      <td>test</td>\n",
              "      <td>BreaKHis_v1/histology_slides/breast/malignant/...</td>\n",
              "      <td>papillary_carcinoma</td>\n",
              "      <td>400X</td>\n",
              "      <td>malignant</td>\n",
              "    </tr>\n",
              "    <tr>\n",
              "      <th>39542</th>\n",
              "      <td>5</td>\n",
              "      <td>400</td>\n",
              "      <td>test</td>\n",
              "      <td>BreaKHis_v1/histology_slides/breast/malignant/...</td>\n",
              "      <td>papillary_carcinoma</td>\n",
              "      <td>400X</td>\n",
              "      <td>malignant</td>\n",
              "    </tr>\n",
              "    <tr>\n",
              "      <th>39543</th>\n",
              "      <td>5</td>\n",
              "      <td>400</td>\n",
              "      <td>test</td>\n",
              "      <td>BreaKHis_v1/histology_slides/breast/malignant/...</td>\n",
              "      <td>papillary_carcinoma</td>\n",
              "      <td>400X</td>\n",
              "      <td>malignant</td>\n",
              "    </tr>\n",
              "    <tr>\n",
              "      <th>39544</th>\n",
              "      <td>5</td>\n",
              "      <td>400</td>\n",
              "      <td>test</td>\n",
              "      <td>BreaKHis_v1/histology_slides/breast/malignant/...</td>\n",
              "      <td>papillary_carcinoma</td>\n",
              "      <td>400X</td>\n",
              "      <td>malignant</td>\n",
              "    </tr>\n",
              "  </tbody>\n",
              "</table>\n",
              "<p>39545 rows × 7 columns</p>\n",
              "</div>\n",
              "      <button class=\"colab-df-convert\" onclick=\"convertToInteractive('df-e67caccc-882e-4566-8734-faaac674b423')\"\n",
              "              title=\"Convert this dataframe to an interactive table.\"\n",
              "              style=\"display:none;\">\n",
              "        \n",
              "  <svg xmlns=\"http://www.w3.org/2000/svg\" height=\"24px\"viewBox=\"0 0 24 24\"\n",
              "       width=\"24px\">\n",
              "    <path d=\"M0 0h24v24H0V0z\" fill=\"none\"/>\n",
              "    <path d=\"M18.56 5.44l.94 2.06.94-2.06 2.06-.94-2.06-.94-.94-2.06-.94 2.06-2.06.94zm-11 1L8.5 8.5l.94-2.06 2.06-.94-2.06-.94L8.5 2.5l-.94 2.06-2.06.94zm10 10l.94 2.06.94-2.06 2.06-.94-2.06-.94-.94-2.06-.94 2.06-2.06.94z\"/><path d=\"M17.41 7.96l-1.37-1.37c-.4-.4-.92-.59-1.43-.59-.52 0-1.04.2-1.43.59L10.3 9.45l-7.72 7.72c-.78.78-.78 2.05 0 2.83L4 21.41c.39.39.9.59 1.41.59.51 0 1.02-.2 1.41-.59l7.78-7.78 2.81-2.81c.8-.78.8-2.07 0-2.86zM5.41 20L4 18.59l7.72-7.72 1.47 1.35L5.41 20z\"/>\n",
              "  </svg>\n",
              "      </button>\n",
              "      \n",
              "  <style>\n",
              "    .colab-df-container {\n",
              "      display:flex;\n",
              "      flex-wrap:wrap;\n",
              "      gap: 12px;\n",
              "    }\n",
              "\n",
              "    .colab-df-convert {\n",
              "      background-color: #E8F0FE;\n",
              "      border: none;\n",
              "      border-radius: 50%;\n",
              "      cursor: pointer;\n",
              "      display: none;\n",
              "      fill: #1967D2;\n",
              "      height: 32px;\n",
              "      padding: 0 0 0 0;\n",
              "      width: 32px;\n",
              "    }\n",
              "\n",
              "    .colab-df-convert:hover {\n",
              "      background-color: #E2EBFA;\n",
              "      box-shadow: 0px 1px 2px rgba(60, 64, 67, 0.3), 0px 1px 3px 1px rgba(60, 64, 67, 0.15);\n",
              "      fill: #174EA6;\n",
              "    }\n",
              "\n",
              "    [theme=dark] .colab-df-convert {\n",
              "      background-color: #3B4455;\n",
              "      fill: #D2E3FC;\n",
              "    }\n",
              "\n",
              "    [theme=dark] .colab-df-convert:hover {\n",
              "      background-color: #434B5C;\n",
              "      box-shadow: 0px 1px 3px 1px rgba(0, 0, 0, 0.15);\n",
              "      filter: drop-shadow(0px 1px 2px rgba(0, 0, 0, 0.3));\n",
              "      fill: #FFFFFF;\n",
              "    }\n",
              "  </style>\n",
              "\n",
              "      <script>\n",
              "        const buttonEl =\n",
              "          document.querySelector('#df-e67caccc-882e-4566-8734-faaac674b423 button.colab-df-convert');\n",
              "        buttonEl.style.display =\n",
              "          google.colab.kernel.accessAllowed ? 'block' : 'none';\n",
              "\n",
              "        async function convertToInteractive(key) {\n",
              "          const element = document.querySelector('#df-e67caccc-882e-4566-8734-faaac674b423');\n",
              "          const dataTable =\n",
              "            await google.colab.kernel.invokeFunction('convertToInteractive',\n",
              "                                                     [key], {});\n",
              "          if (!dataTable) return;\n",
              "\n",
              "          const docLinkHtml = 'Like what you see? Visit the ' +\n",
              "            '<a target=\"_blank\" href=https://colab.research.google.com/notebooks/data_table.ipynb>data table notebook</a>'\n",
              "            + ' to learn more about interactive tables.';\n",
              "          element.innerHTML = '';\n",
              "          dataTable['output_type'] = 'display_data';\n",
              "          await google.colab.output.renderOutput(dataTable, element);\n",
              "          const docLink = document.createElement('div');\n",
              "          docLink.innerHTML = docLinkHtml;\n",
              "          element.appendChild(docLink);\n",
              "        }\n",
              "      </script>\n",
              "    </div>\n",
              "  </div>\n",
              "  "
            ],
            "text/plain": [
              "       fold  mag    grp                                           filename  \\\n",
              "0         1  100  train  BreaKHis_v1/histology_slides/breast/benign/SOB...   \n",
              "1         1  100  train  BreaKHis_v1/histology_slides/breast/benign/SOB...   \n",
              "2         1  100  train  BreaKHis_v1/histology_slides/breast/benign/SOB...   \n",
              "3         1  100  train  BreaKHis_v1/histology_slides/breast/benign/SOB...   \n",
              "4         1  100  train  BreaKHis_v1/histology_slides/breast/benign/SOB...   \n",
              "...     ...  ...    ...                                                ...   \n",
              "39540     5  400   test  BreaKHis_v1/histology_slides/breast/malignant/...   \n",
              "39541     5  400   test  BreaKHis_v1/histology_slides/breast/malignant/...   \n",
              "39542     5  400   test  BreaKHis_v1/histology_slides/breast/malignant/...   \n",
              "39543     5  400   test  BreaKHis_v1/histology_slides/breast/malignant/...   \n",
              "39544     5  400   test  BreaKHis_v1/histology_slides/breast/malignant/...   \n",
              "\n",
              "                    thumor  zoom      class  \n",
              "0                 adenosis  100X     benign  \n",
              "1                 adenosis  100X     benign  \n",
              "2                 adenosis  100X     benign  \n",
              "3                 adenosis  100X     benign  \n",
              "4                 adenosis  100X     benign  \n",
              "...                    ...   ...        ...  \n",
              "39540  papillary_carcinoma  400X  malignant  \n",
              "39541  papillary_carcinoma  400X  malignant  \n",
              "39542  papillary_carcinoma  400X  malignant  \n",
              "39543  papillary_carcinoma  400X  malignant  \n",
              "39544  papillary_carcinoma  400X  malignant  \n",
              "\n",
              "[39545 rows x 7 columns]"
            ]
          },
          "execution_count": 11,
          "metadata": {},
          "output_type": "execute_result"
        }
      ],
      "source": [
        "df"
      ]
    },
    {
      "cell_type": "code",
      "execution_count": 12,
      "id": "87b381c3",
      "metadata": {
        "colab": {
          "base_uri": "https://localhost:8080/"
        },
        "id": "87b381c3",
        "outputId": "44dddd39-c11d-46da-db76-76677f129641"
      },
      "outputs": [
        {
          "data": {
            "text/plain": [
              "7909"
            ]
          },
          "execution_count": 12,
          "metadata": {},
          "output_type": "execute_result"
        }
      ],
      "source": [
        "len(df['filename'].unique())"
      ]
    },
    {
      "cell_type": "markdown",
      "id": "d0e6a17d",
      "metadata": {
        "id": "d0e6a17d"
      },
      "source": [
        "Since there are only 7909 unique values for images paths, the duplicated values will be removed."
      ]
    },
    {
      "cell_type": "code",
      "execution_count": null,
      "id": "4cc33e9c",
      "metadata": {
        "id": "4cc33e9c"
      },
      "outputs": [],
      "source": [
        "udf = df.drop_duplicates(subset=['filename'],keep='first')"
      ]
    },
    {
      "cell_type": "markdown",
      "id": "6269fe14",
      "metadata": {
        "id": "6269fe14"
      },
      "source": [
        "### Enlarging train set"
      ]
    },
    {
      "cell_type": "code",
      "execution_count": null,
      "id": "bfb8e430",
      "metadata": {
        "colab": {
          "base_uri": "https://localhost:8080/"
        },
        "id": "bfb8e430",
        "outputId": "c75662b2-505b-4198-e1f5-c5bd7e9ca542"
      },
      "outputs": [
        {
          "data": {
            "text/plain": [
              "0.6328233657858137"
            ]
          },
          "execution_count": 65,
          "metadata": {},
          "output_type": "execute_result"
        }
      ],
      "source": [
        "udf.grp[udf.grp == 'train'].count()/7909"
      ]
    },
    {
      "cell_type": "markdown",
      "id": "38b1ecef",
      "metadata": {
        "id": "38b1ecef"
      },
      "source": [
        "As it can be seen the train set is around 63% of the whole data, but the optimal would be an 85/15 split between train and test (because it will becme a 75/25 later when the excessive malignant images will be dropped from the train test). So the train test must be enlarged"
      ]
    },
    {
      "cell_type": "code",
      "execution_count": null,
      "id": "e24c06e5",
      "metadata": {
        "colab": {
          "base_uri": "https://localhost:8080/"
        },
        "id": "e24c06e5",
        "outputId": "b9978144-75c0-45fc-d8ed-308bbb2a78c8"
      },
      "outputs": [
        {
          "data": {
            "text/plain": [
              "1322"
            ]
          },
          "execution_count": 66,
          "metadata": {},
          "output_type": "execute_result"
        }
      ],
      "source": [
        "int(7909*0.8) - udf.grp[udf.grp == 'train'].count()"
      ]
    },
    {
      "cell_type": "code",
      "execution_count": null,
      "id": "d6f449f7",
      "metadata": {
        "colab": {
          "base_uri": "https://localhost:8080/"
        },
        "id": "d6f449f7",
        "outputId": "fef2206e-0c99-48ca-8961-724269e21cd2"
      },
      "outputs": [
        {
          "data": {
            "text/html": [
              "\n",
              "  <div id=\"df-a290d759-fa63-4b57-b379-067938e68423\">\n",
              "    <div class=\"colab-df-container\">\n",
              "      <div>\n",
              "<style scoped>\n",
              "    .dataframe tbody tr th:only-of-type {\n",
              "        vertical-align: middle;\n",
              "    }\n",
              "\n",
              "    .dataframe tbody tr th {\n",
              "        vertical-align: top;\n",
              "    }\n",
              "\n",
              "    .dataframe thead th {\n",
              "        text-align: right;\n",
              "    }\n",
              "</style>\n",
              "<table border=\"1\" class=\"dataframe\">\n",
              "  <thead>\n",
              "    <tr style=\"text-align: right;\">\n",
              "      <th></th>\n",
              "      <th>fold</th>\n",
              "      <th>mag</th>\n",
              "      <th>grp</th>\n",
              "      <th>filename</th>\n",
              "      <th>thumor</th>\n",
              "      <th>zoom</th>\n",
              "      <th>class</th>\n",
              "    </tr>\n",
              "  </thead>\n",
              "  <tbody>\n",
              "    <tr>\n",
              "      <th>5476</th>\n",
              "      <td>1</td>\n",
              "      <td>40</td>\n",
              "      <td>test</td>\n",
              "      <td>BreaKHis_v1/histology_slides/breast/benign/SOB...</td>\n",
              "      <td>fibroadenoma</td>\n",
              "      <td>40X</td>\n",
              "      <td>benign</td>\n",
              "    </tr>\n",
              "    <tr>\n",
              "      <th>5731</th>\n",
              "      <td>1</td>\n",
              "      <td>400</td>\n",
              "      <td>test</td>\n",
              "      <td>BreaKHis_v1/histology_slides/breast/benign/SOB...</td>\n",
              "      <td>phyllodes_tumor</td>\n",
              "      <td>400X</td>\n",
              "      <td>benign</td>\n",
              "    </tr>\n",
              "    <tr>\n",
              "      <th>5586</th>\n",
              "      <td>1</td>\n",
              "      <td>100</td>\n",
              "      <td>test</td>\n",
              "      <td>BreaKHis_v1/histology_slides/breast/benign/SOB...</td>\n",
              "      <td>phyllodes_tumor</td>\n",
              "      <td>100X</td>\n",
              "      <td>benign</td>\n",
              "    </tr>\n",
              "    <tr>\n",
              "      <th>7908</th>\n",
              "      <td>1</td>\n",
              "      <td>400</td>\n",
              "      <td>test</td>\n",
              "      <td>BreaKHis_v1/histology_slides/breast/malignant/...</td>\n",
              "      <td>papillary_carcinoma</td>\n",
              "      <td>400X</td>\n",
              "      <td>malignant</td>\n",
              "    </tr>\n",
              "    <tr>\n",
              "      <th>6148</th>\n",
              "      <td>1</td>\n",
              "      <td>200</td>\n",
              "      <td>test</td>\n",
              "      <td>BreaKHis_v1/histology_slides/breast/malignant/...</td>\n",
              "      <td>ductal_carcinoma</td>\n",
              "      <td>200X</td>\n",
              "      <td>malignant</td>\n",
              "    </tr>\n",
              "    <tr>\n",
              "      <th>...</th>\n",
              "      <td>...</td>\n",
              "      <td>...</td>\n",
              "      <td>...</td>\n",
              "      <td>...</td>\n",
              "      <td>...</td>\n",
              "      <td>...</td>\n",
              "      <td>...</td>\n",
              "    </tr>\n",
              "    <tr>\n",
              "      <th>6730</th>\n",
              "      <td>1</td>\n",
              "      <td>40</td>\n",
              "      <td>test</td>\n",
              "      <td>BreaKHis_v1/histology_slides/breast/malignant/...</td>\n",
              "      <td>ductal_carcinoma</td>\n",
              "      <td>40X</td>\n",
              "      <td>malignant</td>\n",
              "    </tr>\n",
              "    <tr>\n",
              "      <th>5464</th>\n",
              "      <td>1</td>\n",
              "      <td>200</td>\n",
              "      <td>test</td>\n",
              "      <td>BreaKHis_v1/histology_slides/breast/benign/SOB...</td>\n",
              "      <td>fibroadenoma</td>\n",
              "      <td>200X</td>\n",
              "      <td>benign</td>\n",
              "    </tr>\n",
              "    <tr>\n",
              "      <th>7119</th>\n",
              "      <td>1</td>\n",
              "      <td>40</td>\n",
              "      <td>test</td>\n",
              "      <td>BreaKHis_v1/histology_slides/breast/malignant/...</td>\n",
              "      <td>ductal_carcinoma</td>\n",
              "      <td>40X</td>\n",
              "      <td>malignant</td>\n",
              "    </tr>\n",
              "    <tr>\n",
              "      <th>5844</th>\n",
              "      <td>1</td>\n",
              "      <td>100</td>\n",
              "      <td>test</td>\n",
              "      <td>BreaKHis_v1/histology_slides/breast/benign/SOB...</td>\n",
              "      <td>tubular_adenoma</td>\n",
              "      <td>100X</td>\n",
              "      <td>benign</td>\n",
              "    </tr>\n",
              "    <tr>\n",
              "      <th>6693</th>\n",
              "      <td>1</td>\n",
              "      <td>100</td>\n",
              "      <td>test</td>\n",
              "      <td>BreaKHis_v1/histology_slides/breast/malignant/...</td>\n",
              "      <td>ductal_carcinoma</td>\n",
              "      <td>100X</td>\n",
              "      <td>malignant</td>\n",
              "    </tr>\n",
              "  </tbody>\n",
              "</table>\n",
              "<p>2800 rows × 7 columns</p>\n",
              "</div>\n",
              "      <button class=\"colab-df-convert\" onclick=\"convertToInteractive('df-a290d759-fa63-4b57-b379-067938e68423')\"\n",
              "              title=\"Convert this dataframe to an interactive table.\"\n",
              "              style=\"display:none;\">\n",
              "        \n",
              "  <svg xmlns=\"http://www.w3.org/2000/svg\" height=\"24px\"viewBox=\"0 0 24 24\"\n",
              "       width=\"24px\">\n",
              "    <path d=\"M0 0h24v24H0V0z\" fill=\"none\"/>\n",
              "    <path d=\"M18.56 5.44l.94 2.06.94-2.06 2.06-.94-2.06-.94-.94-2.06-.94 2.06-2.06.94zm-11 1L8.5 8.5l.94-2.06 2.06-.94-2.06-.94L8.5 2.5l-.94 2.06-2.06.94zm10 10l.94 2.06.94-2.06 2.06-.94-2.06-.94-.94-2.06-.94 2.06-2.06.94z\"/><path d=\"M17.41 7.96l-1.37-1.37c-.4-.4-.92-.59-1.43-.59-.52 0-1.04.2-1.43.59L10.3 9.45l-7.72 7.72c-.78.78-.78 2.05 0 2.83L4 21.41c.39.39.9.59 1.41.59.51 0 1.02-.2 1.41-.59l7.78-7.78 2.81-2.81c.8-.78.8-2.07 0-2.86zM5.41 20L4 18.59l7.72-7.72 1.47 1.35L5.41 20z\"/>\n",
              "  </svg>\n",
              "      </button>\n",
              "      \n",
              "  <style>\n",
              "    .colab-df-container {\n",
              "      display:flex;\n",
              "      flex-wrap:wrap;\n",
              "      gap: 12px;\n",
              "    }\n",
              "\n",
              "    .colab-df-convert {\n",
              "      background-color: #E8F0FE;\n",
              "      border: none;\n",
              "      border-radius: 50%;\n",
              "      cursor: pointer;\n",
              "      display: none;\n",
              "      fill: #1967D2;\n",
              "      height: 32px;\n",
              "      padding: 0 0 0 0;\n",
              "      width: 32px;\n",
              "    }\n",
              "\n",
              "    .colab-df-convert:hover {\n",
              "      background-color: #E2EBFA;\n",
              "      box-shadow: 0px 1px 2px rgba(60, 64, 67, 0.3), 0px 1px 3px 1px rgba(60, 64, 67, 0.15);\n",
              "      fill: #174EA6;\n",
              "    }\n",
              "\n",
              "    [theme=dark] .colab-df-convert {\n",
              "      background-color: #3B4455;\n",
              "      fill: #D2E3FC;\n",
              "    }\n",
              "\n",
              "    [theme=dark] .colab-df-convert:hover {\n",
              "      background-color: #434B5C;\n",
              "      box-shadow: 0px 1px 3px 1px rgba(0, 0, 0, 0.15);\n",
              "      filter: drop-shadow(0px 1px 2px rgba(0, 0, 0, 0.3));\n",
              "      fill: #FFFFFF;\n",
              "    }\n",
              "  </style>\n",
              "\n",
              "      <script>\n",
              "        const buttonEl =\n",
              "          document.querySelector('#df-a290d759-fa63-4b57-b379-067938e68423 button.colab-df-convert');\n",
              "        buttonEl.style.display =\n",
              "          google.colab.kernel.accessAllowed ? 'block' : 'none';\n",
              "\n",
              "        async function convertToInteractive(key) {\n",
              "          const element = document.querySelector('#df-a290d759-fa63-4b57-b379-067938e68423');\n",
              "          const dataTable =\n",
              "            await google.colab.kernel.invokeFunction('convertToInteractive',\n",
              "                                                     [key], {});\n",
              "          if (!dataTable) return;\n",
              "\n",
              "          const docLinkHtml = 'Like what you see? Visit the ' +\n",
              "            '<a target=\"_blank\" href=https://colab.research.google.com/notebooks/data_table.ipynb>data table notebook</a>'\n",
              "            + ' to learn more about interactive tables.';\n",
              "          element.innerHTML = '';\n",
              "          dataTable['output_type'] = 'display_data';\n",
              "          await google.colab.output.renderOutput(dataTable, element);\n",
              "          const docLink = document.createElement('div');\n",
              "          docLink.innerHTML = docLinkHtml;\n",
              "          element.appendChild(docLink);\n",
              "        }\n",
              "      </script>\n",
              "    </div>\n",
              "  </div>\n",
              "  "
            ],
            "text/plain": [
              "      fold  mag   grp                                           filename  \\\n",
              "5476     1   40  test  BreaKHis_v1/histology_slides/breast/benign/SOB...   \n",
              "5731     1  400  test  BreaKHis_v1/histology_slides/breast/benign/SOB...   \n",
              "5586     1  100  test  BreaKHis_v1/histology_slides/breast/benign/SOB...   \n",
              "7908     1  400  test  BreaKHis_v1/histology_slides/breast/malignant/...   \n",
              "6148     1  200  test  BreaKHis_v1/histology_slides/breast/malignant/...   \n",
              "...    ...  ...   ...                                                ...   \n",
              "6730     1   40  test  BreaKHis_v1/histology_slides/breast/malignant/...   \n",
              "5464     1  200  test  BreaKHis_v1/histology_slides/breast/benign/SOB...   \n",
              "7119     1   40  test  BreaKHis_v1/histology_slides/breast/malignant/...   \n",
              "5844     1  100  test  BreaKHis_v1/histology_slides/breast/benign/SOB...   \n",
              "6693     1  100  test  BreaKHis_v1/histology_slides/breast/malignant/...   \n",
              "\n",
              "                   thumor  zoom      class  \n",
              "5476         fibroadenoma   40X     benign  \n",
              "5731      phyllodes_tumor  400X     benign  \n",
              "5586      phyllodes_tumor  100X     benign  \n",
              "7908  papillary_carcinoma  400X  malignant  \n",
              "6148     ductal_carcinoma  200X  malignant  \n",
              "...                   ...   ...        ...  \n",
              "6730     ductal_carcinoma   40X  malignant  \n",
              "5464         fibroadenoma  200X     benign  \n",
              "7119     ductal_carcinoma   40X  malignant  \n",
              "5844      tubular_adenoma  100X     benign  \n",
              "6693     ductal_carcinoma  100X  malignant  \n",
              "\n",
              "[2800 rows x 7 columns]"
            ]
          },
          "execution_count": 67,
          "metadata": {},
          "output_type": "execute_result"
        }
      ],
      "source": [
        "udf.loc[udf[udf.grp == 'test'].index[np.random.randint(0,len(udf[udf.grp == 'test'].index),2800)],:]"
      ]
    },
    {
      "cell_type": "code",
      "execution_count": null,
      "id": "03907047",
      "metadata": {
        "id": "03907047",
        "scrolled": true
      },
      "outputs": [],
      "source": [
        "udf.grp[udf[udf.grp == 'test'].index[np.random.randint(0,len(udf[udf.grp == 'test'].index),2800)]] = 'train'"
      ]
    },
    {
      "cell_type": "code",
      "execution_count": null,
      "id": "dfb048d7",
      "metadata": {
        "colab": {
          "base_uri": "https://localhost:8080/"
        },
        "id": "dfb048d7",
        "outputId": "ae6d1c80-18f6-4c0a-e428-6a1cb9178f25"
      },
      "outputs": [
        {
          "data": {
            "text/plain": [
              "0.8607915033506133"
            ]
          },
          "execution_count": 69,
          "metadata": {},
          "output_type": "execute_result"
        }
      ],
      "source": [
        "udf.grp[udf.grp == 'train'].count()/7909"
      ]
    },
    {
      "cell_type": "markdown",
      "id": "b5ee5410",
      "metadata": {
        "id": "b5ee5410"
      },
      "source": [
        "### Visualizations of the imbalacned dataset"
      ]
    },
    {
      "cell_type": "code",
      "execution_count": null,
      "id": "b503c0c9",
      "metadata": {
        "colab": {
          "base_uri": "https://localhost:8080/"
        },
        "id": "b503c0c9",
        "outputId": "a886a223-fcb7-433c-b85a-a612d27783e4"
      },
      "outputs": [
        {
          "data": {
            "text/plain": [
              "<matplotlib.axes._subplots.AxesSubplot at 0x7efec4a6cc10>"
            ]
          },
          "execution_count": 72,
          "metadata": {},
          "output_type": "execute_result"
        },
        {
          "data": {
            "image/png": "[encoded data removed]",
            "text/plain": [
              "<Figure size 432x288 with 1 Axes>"
            ]
          },
          "metadata": {
            "needs_background": "light"
          },
          "output_type": "display_data"
        }
      ],
      "source": [
        "sns.countplot(x=udf['mag'])"
      ]
    },
    {
      "cell_type": "code",
      "execution_count": null,
      "id": "024fc57c",
      "metadata": {
        "colab": {
          "base_uri": "https://localhost:8080/"
        },
        "id": "024fc57c",
        "outputId": "fcdcdea6-503a-4b99-8ba1-842188330e21"
      },
      "outputs": [
        {
          "data": {
            "text/plain": [
              "<matplotlib.axes._subplots.AxesSubplot at 0x7efec46db410>"
            ]
          },
          "execution_count": 73,
          "metadata": {},
          "output_type": "execute_result"
        },
        {
          "data": {
            "image/png": "[encoded data removed]",
            "text/plain": [
              "<Figure size 432x288 with 1 Axes>"
            ]
          },
          "metadata": {
            "needs_background": "light"
          },
          "output_type": "display_data"
        }
      ],
      "source": [
        "sns.countplot(x=udf['mag'], hue=udf['class'])"
      ]
    },
    {
      "cell_type": "code",
      "execution_count": null,
      "id": "050893dc",
      "metadata": {
        "colab": {
          "base_uri": "https://localhost:8080/"
        },
        "id": "050893dc",
        "outputId": "f89b4453-77a4-4749-de3f-35e427866547"
      },
      "outputs": [
        {
          "data": {
            "text/plain": [
              "<matplotlib.axes._subplots.AxesSubplot at 0x7efec4959090>"
            ]
          },
          "execution_count": 74,
          "metadata": {},
          "output_type": "execute_result"
        },
        {
          "data": {
            "image/png": "[encoded data removed]",
            "text/plain": [
              "<Figure size 432x288 with 1 Axes>"
            ]
          },
          "metadata": {
            "needs_background": "light"
          },
          "output_type": "display_data"
        }
      ],
      "source": [
        "sns.countplot(x=udf['class'])"
      ]
    },
    {
      "cell_type": "code",
      "execution_count": null,
      "id": "98991564",
      "metadata": {
        "colab": {
          "base_uri": "https://localhost:8080/"
        },
        "id": "98991564",
        "outputId": "ce35f49d-fb84-4ffa-9fa5-8662f79562ab"
      },
      "outputs": [
        {
          "data": {
            "image/png": "[encoded data removed]",
            "text/plain": [
              "<Figure size 432x288 with 1 Axes>"
            ]
          },
          "metadata": {},
          "output_type": "display_data"
        }
      ],
      "source": [
        "sns.set(font_scale = 1.2)\n",
        "for i in range(4,8):\n",
        "    sns.countplot(y=udf['thumor']).axes.get_yticklabels()[i].set_color(\"red\")"
      ]
    },
    {
      "cell_type": "markdown",
      "id": "73cc8176",
      "metadata": {
        "id": "73cc8176"
      },
      "source": [
        "### Dataset Balancing"
      ]
    },
    {
      "cell_type": "code",
      "execution_count": null,
      "id": "532d2a7e",
      "metadata": {
        "colab": {
          "base_uri": "https://localhost:8080/"
        },
        "id": "532d2a7e",
        "outputId": "45962911-c4d2-49b2-cbb3-6b591ea69201"
      },
      "outputs": [
        {
          "data": {
            "text/plain": [
              "malignant    5429\n",
              "benign       2480\n",
              "Name: class, dtype: int64"
            ]
          },
          "execution_count": 77,
          "metadata": {},
          "output_type": "execute_result"
        }
      ],
      "source": [
        "udf['class'].value_counts()"
      ]
    },
    {
      "cell_type": "code",
      "execution_count": null,
      "id": "452d7613",
      "metadata": {
        "colab": {
          "base_uri": "https://localhost:8080/"
        },
        "id": "452d7613",
        "outputId": "a2c635ba-6ce3-456a-d42d-70a0e2473087"
      },
      "outputs": [
        {
          "data": {
            "text/plain": [
              "malignant    4717\n",
              "benign       2091\n",
              "Name: class, dtype: int64"
            ]
          },
          "execution_count": 78,
          "metadata": {},
          "output_type": "execute_result"
        }
      ],
      "source": [
        "udf['class'][udf.grp == 'train'].value_counts()"
      ]
    },
    {
      "cell_type": "code",
      "execution_count": null,
      "id": "48e1358a",
      "metadata": {
        "colab": {
          "base_uri": "https://localhost:8080/"
        },
        "id": "48e1358a",
        "outputId": "d96629a7-cebd-46f1-879b-ee3b8edf756a"
      },
      "outputs": [
        {
          "data": {
            "text/plain": [
              "malignant    712\n",
              "benign       389\n",
              "Name: class, dtype: int64"
            ]
          },
          "execution_count": 79,
          "metadata": {},
          "output_type": "execute_result"
        }
      ],
      "source": [
        "udf['class'][udf.grp == 'test'].value_counts()"
      ]
    },
    {
      "cell_type": "markdown",
      "id": "55247db4",
      "metadata": {
        "id": "55247db4"
      },
      "source": [
        "I will now take out some malignant images from the train set to achieve a better balance."
      ]
    },
    {
      "cell_type": "code",
      "execution_count": null,
      "id": "f1e3436a",
      "metadata": {
        "colab": {
          "base_uri": "https://localhost:8080/"
        },
        "id": "f1e3436a",
        "outputId": "037c28e6-789f-400f-bdc8-faaa00c660d8"
      },
      "outputs": [
        {
          "data": {
            "text/html": [
              "\n",
              "  <div id=\"df-fce912e6-5c31-4df9-bb02-75ff200f6b37\">\n",
              "    <div class=\"colab-df-container\">\n",
              "      <div>\n",
              "<style scoped>\n",
              "    .dataframe tbody tr th:only-of-type {\n",
              "        vertical-align: middle;\n",
              "    }\n",
              "\n",
              "    .dataframe tbody tr th {\n",
              "        vertical-align: top;\n",
              "    }\n",
              "\n",
              "    .dataframe thead th {\n",
              "        text-align: right;\n",
              "    }\n",
              "</style>\n",
              "<table border=\"1\" class=\"dataframe\">\n",
              "  <thead>\n",
              "    <tr style=\"text-align: right;\">\n",
              "      <th></th>\n",
              "      <th>fold</th>\n",
              "      <th>mag</th>\n",
              "      <th>grp</th>\n",
              "      <th>filename</th>\n",
              "      <th>thumor</th>\n",
              "      <th>zoom</th>\n",
              "      <th>class</th>\n",
              "    </tr>\n",
              "  </thead>\n",
              "  <tbody>\n",
              "    <tr>\n",
              "      <th>0</th>\n",
              "      <td>1</td>\n",
              "      <td>100</td>\n",
              "      <td>train</td>\n",
              "      <td>BreaKHis_v1/histology_slides/breast/benign/SOB...</td>\n",
              "      <td>adenosis</td>\n",
              "      <td>100X</td>\n",
              "      <td>benign</td>\n",
              "    </tr>\n",
              "    <tr>\n",
              "      <th>1</th>\n",
              "      <td>1</td>\n",
              "      <td>100</td>\n",
              "      <td>train</td>\n",
              "      <td>BreaKHis_v1/histology_slides/breast/benign/SOB...</td>\n",
              "      <td>adenosis</td>\n",
              "      <td>100X</td>\n",
              "      <td>benign</td>\n",
              "    </tr>\n",
              "    <tr>\n",
              "      <th>2</th>\n",
              "      <td>1</td>\n",
              "      <td>100</td>\n",
              "      <td>train</td>\n",
              "      <td>BreaKHis_v1/histology_slides/breast/benign/SOB...</td>\n",
              "      <td>adenosis</td>\n",
              "      <td>100X</td>\n",
              "      <td>benign</td>\n",
              "    </tr>\n",
              "    <tr>\n",
              "      <th>3</th>\n",
              "      <td>1</td>\n",
              "      <td>100</td>\n",
              "      <td>train</td>\n",
              "      <td>BreaKHis_v1/histology_slides/breast/benign/SOB...</td>\n",
              "      <td>adenosis</td>\n",
              "      <td>100X</td>\n",
              "      <td>benign</td>\n",
              "    </tr>\n",
              "    <tr>\n",
              "      <th>4</th>\n",
              "      <td>1</td>\n",
              "      <td>100</td>\n",
              "      <td>train</td>\n",
              "      <td>BreaKHis_v1/histology_slides/breast/benign/SOB...</td>\n",
              "      <td>adenosis</td>\n",
              "      <td>100X</td>\n",
              "      <td>benign</td>\n",
              "    </tr>\n",
              "    <tr>\n",
              "      <th>...</th>\n",
              "      <td>...</td>\n",
              "      <td>...</td>\n",
              "      <td>...</td>\n",
              "      <td>...</td>\n",
              "      <td>...</td>\n",
              "      <td>...</td>\n",
              "      <td>...</td>\n",
              "    </tr>\n",
              "    <tr>\n",
              "      <th>7904</th>\n",
              "      <td>1</td>\n",
              "      <td>400</td>\n",
              "      <td>test</td>\n",
              "      <td>BreaKHis_v1/histology_slides/breast/malignant/...</td>\n",
              "      <td>papillary_carcinoma</td>\n",
              "      <td>400X</td>\n",
              "      <td>malignant</td>\n",
              "    </tr>\n",
              "    <tr>\n",
              "      <th>7905</th>\n",
              "      <td>1</td>\n",
              "      <td>400</td>\n",
              "      <td>train</td>\n",
              "      <td>BreaKHis_v1/histology_slides/breast/malignant/...</td>\n",
              "      <td>papillary_carcinoma</td>\n",
              "      <td>400X</td>\n",
              "      <td>malignant</td>\n",
              "    </tr>\n",
              "    <tr>\n",
              "      <th>7906</th>\n",
              "      <td>1</td>\n",
              "      <td>400</td>\n",
              "      <td>train</td>\n",
              "      <td>BreaKHis_v1/histology_slides/breast/malignant/...</td>\n",
              "      <td>papillary_carcinoma</td>\n",
              "      <td>400X</td>\n",
              "      <td>malignant</td>\n",
              "    </tr>\n",
              "    <tr>\n",
              "      <th>7907</th>\n",
              "      <td>1</td>\n",
              "      <td>400</td>\n",
              "      <td>test</td>\n",
              "      <td>BreaKHis_v1/histology_slides/breast/malignant/...</td>\n",
              "      <td>papillary_carcinoma</td>\n",
              "      <td>400X</td>\n",
              "      <td>malignant</td>\n",
              "    </tr>\n",
              "    <tr>\n",
              "      <th>7908</th>\n",
              "      <td>1</td>\n",
              "      <td>400</td>\n",
              "      <td>test</td>\n",
              "      <td>BreaKHis_v1/histology_slides/breast/malignant/...</td>\n",
              "      <td>papillary_carcinoma</td>\n",
              "      <td>400X</td>\n",
              "      <td>malignant</td>\n",
              "    </tr>\n",
              "  </tbody>\n",
              "</table>\n",
              "<p>5704 rows × 7 columns</p>\n",
              "</div>\n",
              "      <button class=\"colab-df-convert\" onclick=\"convertToInteractive('df-fce912e6-5c31-4df9-bb02-75ff200f6b37')\"\n",
              "              title=\"Convert this dataframe to an interactive table.\"\n",
              "              style=\"display:none;\">\n",
              "        \n",
              "  <svg xmlns=\"http://www.w3.org/2000/svg\" height=\"24px\"viewBox=\"0 0 24 24\"\n",
              "       width=\"24px\">\n",
              "    <path d=\"M0 0h24v24H0V0z\" fill=\"none\"/>\n",
              "    <path d=\"M18.56 5.44l.94 2.06.94-2.06 2.06-.94-2.06-.94-.94-2.06-.94 2.06-2.06.94zm-11 1L8.5 8.5l.94-2.06 2.06-.94-2.06-.94L8.5 2.5l-.94 2.06-2.06.94zm10 10l.94 2.06.94-2.06 2.06-.94-2.06-.94-.94-2.06-.94 2.06-2.06.94z\"/><path d=\"M17.41 7.96l-1.37-1.37c-.4-.4-.92-.59-1.43-.59-.52 0-1.04.2-1.43.59L10.3 9.45l-7.72 7.72c-.78.78-.78 2.05 0 2.83L4 21.41c.39.39.9.59 1.41.59.51 0 1.02-.2 1.41-.59l7.78-7.78 2.81-2.81c.8-.78.8-2.07 0-2.86zM5.41 20L4 18.59l7.72-7.72 1.47 1.35L5.41 20z\"/>\n",
              "  </svg>\n",
              "      </button>\n",
              "      \n",
              "  <style>\n",
              "    .colab-df-container {\n",
              "      display:flex;\n",
              "      flex-wrap:wrap;\n",
              "      gap: 12px;\n",
              "    }\n",
              "\n",
              "    .colab-df-convert {\n",
              "      background-color: #E8F0FE;\n",
              "      border: none;\n",
              "      border-radius: 50%;\n",
              "      cursor: pointer;\n",
              "      display: none;\n",
              "      fill: #1967D2;\n",
              "      height: 32px;\n",
              "      padding: 0 0 0 0;\n",
              "      width: 32px;\n",
              "    }\n",
              "\n",
              "    .colab-df-convert:hover {\n",
              "      background-color: #E2EBFA;\n",
              "      box-shadow: 0px 1px 2px rgba(60, 64, 67, 0.3), 0px 1px 3px 1px rgba(60, 64, 67, 0.15);\n",
              "      fill: #174EA6;\n",
              "    }\n",
              "\n",
              "    [theme=dark] .colab-df-convert {\n",
              "      background-color: #3B4455;\n",
              "      fill: #D2E3FC;\n",
              "    }\n",
              "\n",
              "    [theme=dark] .colab-df-convert:hover {\n",
              "      background-color: #434B5C;\n",
              "      box-shadow: 0px 1px 3px 1px rgba(0, 0, 0, 0.15);\n",
              "      filter: drop-shadow(0px 1px 2px rgba(0, 0, 0, 0.3));\n",
              "      fill: #FFFFFF;\n",
              "    }\n",
              "  </style>\n",
              "\n",
              "      <script>\n",
              "        const buttonEl =\n",
              "          document.querySelector('#df-fce912e6-5c31-4df9-bb02-75ff200f6b37 button.colab-df-convert');\n",
              "        buttonEl.style.display =\n",
              "          google.colab.kernel.accessAllowed ? 'block' : 'none';\n",
              "\n",
              "        async function convertToInteractive(key) {\n",
              "          const element = document.querySelector('#df-fce912e6-5c31-4df9-bb02-75ff200f6b37');\n",
              "          const dataTable =\n",
              "            await google.colab.kernel.invokeFunction('convertToInteractive',\n",
              "                                                     [key], {});\n",
              "          if (!dataTable) return;\n",
              "\n",
              "          const docLinkHtml = 'Like what you see? Visit the ' +\n",
              "            '<a target=\"_blank\" href=https://colab.research.google.com/notebooks/data_table.ipynb>data table notebook</a>'\n",
              "            + ' to learn more about interactive tables.';\n",
              "          element.innerHTML = '';\n",
              "          dataTable['output_type'] = 'display_data';\n",
              "          await google.colab.output.renderOutput(dataTable, element);\n",
              "          const docLink = document.createElement('div');\n",
              "          docLink.innerHTML = docLinkHtml;\n",
              "          element.appendChild(docLink);\n",
              "        }\n",
              "      </script>\n",
              "    </div>\n",
              "  </div>\n",
              "  "
            ],
            "text/plain": [
              "      fold  mag    grp                                           filename  \\\n",
              "0        1  100  train  BreaKHis_v1/histology_slides/breast/benign/SOB...   \n",
              "1        1  100  train  BreaKHis_v1/histology_slides/breast/benign/SOB...   \n",
              "2        1  100  train  BreaKHis_v1/histology_slides/breast/benign/SOB...   \n",
              "3        1  100  train  BreaKHis_v1/histology_slides/breast/benign/SOB...   \n",
              "4        1  100  train  BreaKHis_v1/histology_slides/breast/benign/SOB...   \n",
              "...    ...  ...    ...                                                ...   \n",
              "7904     1  400   test  BreaKHis_v1/histology_slides/breast/malignant/...   \n",
              "7905     1  400  train  BreaKHis_v1/histology_slides/breast/malignant/...   \n",
              "7906     1  400  train  BreaKHis_v1/histology_slides/breast/malignant/...   \n",
              "7907     1  400   test  BreaKHis_v1/histology_slides/breast/malignant/...   \n",
              "7908     1  400   test  BreaKHis_v1/histology_slides/breast/malignant/...   \n",
              "\n",
              "                   thumor  zoom      class  \n",
              "0                adenosis  100X     benign  \n",
              "1                adenosis  100X     benign  \n",
              "2                adenosis  100X     benign  \n",
              "3                adenosis  100X     benign  \n",
              "4                adenosis  100X     benign  \n",
              "...                   ...   ...        ...  \n",
              "7904  papillary_carcinoma  400X  malignant  \n",
              "7905  papillary_carcinoma  400X  malignant  \n",
              "7906  papillary_carcinoma  400X  malignant  \n",
              "7907  papillary_carcinoma  400X  malignant  \n",
              "7908  papillary_carcinoma  400X  malignant  \n",
              "\n",
              "[5704 rows x 7 columns]"
            ]
          },
          "execution_count": 80,
          "metadata": {},
          "output_type": "execute_result"
        }
      ],
      "source": [
        "bdf = udf.drop(udf[(udf['class']=='malignant') & (udf['grp']=='train')].index[np.random.randint(0,4691,3000)])\n",
        "bdf"
      ]
    },
    {
      "cell_type": "code",
      "execution_count": null,
      "id": "fbcc7d00",
      "metadata": {
        "colab": {
          "base_uri": "https://localhost:8080/"
        },
        "id": "fbcc7d00",
        "outputId": "44bc54c7-b635-41d6-d200-598c897925b3"
      },
      "outputs": [
        {
          "data": {
            "text/plain": [
              "malignant    2512\n",
              "benign       2091\n",
              "Name: class, dtype: int64"
            ]
          },
          "execution_count": 81,
          "metadata": {},
          "output_type": "execute_result"
        }
      ],
      "source": [
        "bdf['class'][udf.grp == 'train'].value_counts()"
      ]
    },
    {
      "cell_type": "markdown",
      "id": "f-Zx1TDRyhKR",
      "metadata": {
        "id": "f-Zx1TDRyhKR"
      },
      "source": [
        "Now the train test has been balanced while the test set hasn't, so the new perchetage of data in the train set will be displayed"
      ]
    },
    {
      "cell_type": "code",
      "execution_count": null,
      "id": "O7VfK-JSGFtr",
      "metadata": {
        "colab": {
          "base_uri": "https://localhost:8080/"
        },
        "id": "O7VfK-JSGFtr",
        "outputId": "6165b8dc-4a35-4512-e908-433b5a6f4031"
      },
      "outputs": [
        {
          "data": {
            "text/plain": [
              "0.8069775596072931"
            ]
          },
          "execution_count": 86,
          "metadata": {},
          "output_type": "execute_result"
        }
      ],
      "source": [
        "bdf.grp[bdf.grp == 'train'].count()/bdf.shape[0]"
      ]
    },
    {
      "cell_type": "markdown",
      "id": "vT7e2-L48Yvk",
      "metadata": {
        "id": "vT7e2-L48Yvk"
      },
      "source": [
        "### Visualizations with balanced train set"
      ]
    },
    {
      "cell_type": "code",
      "execution_count": null,
      "id": "a6e987ce",
      "metadata": {
        "colab": {
          "base_uri": "https://localhost:8080/"
        },
        "id": "a6e987ce",
        "outputId": "ca41fe8a-e3c6-4f94-e4ab-d45fd0738b84"
      },
      "outputs": [
        {
          "data": {
            "text/plain": [
              "<matplotlib.axes._subplots.AxesSubplot at 0x7efec4562890>"
            ]
          },
          "execution_count": 87,
          "metadata": {},
          "output_type": "execute_result"
        },
        {
          "data": {
            "image/png": "[encoded data removed]",
            "text/plain": [
              "<Figure size 432x288 with 1 Axes>"
            ]
          },
          "metadata": {},
          "output_type": "display_data"
        }
      ],
      "source": [
        "sns.countplot(x=bdf['mag'][bdf.grp == 'train'])"
      ]
    },
    {
      "cell_type": "code",
      "execution_count": null,
      "id": "48e29c87",
      "metadata": {
        "colab": {
          "base_uri": "https://localhost:8080/"
        },
        "id": "48e29c87",
        "outputId": "03d271d4-cadc-4478-9528-ea4d4e360310"
      },
      "outputs": [
        {
          "data": {
            "text/plain": [
              "<matplotlib.axes._subplots.AxesSubplot at 0x7efec66cd6d0>"
            ]
          },
          "execution_count": 88,
          "metadata": {},
          "output_type": "execute_result"
        },
        {
          "data": {
            "image/png": "[encoded data removed]",
            "text/plain": [
              "<Figure size 432x288 with 1 Axes>"
            ]
          },
          "metadata": {},
          "output_type": "display_data"
        }
      ],
      "source": [
        "sns.countplot(x=bdf['mag'][udf.grp == 'train'], hue=bdf['class'][bdf.grp == 'train'])"
      ]
    },
    {
      "cell_type": "code",
      "execution_count": null,
      "id": "2273aed9",
      "metadata": {
        "colab": {
          "base_uri": "https://localhost:8080/"
        },
        "id": "2273aed9",
        "outputId": "987d5568-20a6-484e-d828-717e23dc88be"
      },
      "outputs": [
        {
          "data": {
            "text/plain": [
              "<matplotlib.axes._subplots.AxesSubplot at 0x7efec66d5dd0>"
            ]
          },
          "execution_count": 89,
          "metadata": {},
          "output_type": "execute_result"
        },
        {
          "data": {
            "image/png": "[encoded data removed]",
            "text/plain": [
              "<Figure size 432x288 with 1 Axes>"
            ]
          },
          "metadata": {},
          "output_type": "display_data"
        }
      ],
      "source": [
        "sns.countplot(x=bdf['class'][bdf.grp == 'train'])"
      ]
    },
    {
      "cell_type": "code",
      "execution_count": null,
      "id": "647dd289",
      "metadata": {
        "colab": {
          "base_uri": "https://localhost:8080/"
        },
        "id": "647dd289",
        "outputId": "3963ed87-2142-44d2-ccbe-196006c96e01"
      },
      "outputs": [
        {
          "data": {
            "image/png": "[encoded data removed]",
            "text/plain": [
              "<Figure size 432x288 with 1 Axes>"
            ]
          },
          "metadata": {},
          "output_type": "display_data"
        }
      ],
      "source": [
        "sns.set(font_scale = 1.2)\n",
        "for i in range(4,8):\n",
        "    sns.countplot(y=bdf['thumor'][bdf.grp == 'train']).axes.get_yticklabels()[i].set_color(\"red\")"
      ]
    },
    {
      "cell_type": "markdown",
      "id": "f166295f",
      "metadata": {
        "id": "f166295f"
      },
      "source": [
        "### Dataset Generator\n"
      ]
    },
    {
      "cell_type": "markdown",
      "id": "UWQpmvA70cVI",
      "metadata": {
        "id": "UWQpmvA70cVI"
      },
      "source": [
        "Here I built the train and test folders in order to be compatibel with the troch ImageFolder and DataLoader finctions. This commmand has already been run once and thus the folder with the data has already been created. It is commented in order to avoid duplicating the data folders in the future. "
      ]
    },
    {
      "cell_type": "code",
      "execution_count": null,
      "id": "3be8ae91",
      "metadata": {
        "id": "3be8ae91",
        "outputId": "58d5be9c-9891-4ba4-bb50-8c7872df3fcf"
      },
      "outputs": [
        {
          "name": "stdout",
          "output_type": "stream",
          "text": [
            "folder succesfully generated\n"
          ]
        }
      ],
      "source": [
        "###dataset_generator(bdf)"
      ]
    },
    {
      "cell_type": "markdown",
      "id": "780165ea",
      "metadata": {
        "id": "780165ea"
      },
      "source": [
        "### Statistics computation\n"
      ]
    },
    {
      "cell_type": "markdown",
      "id": "IXcQWx0_ifWn",
      "metadata": {
        "id": "IXcQWx0_ifWn"
      },
      "source": [
        "I created this function to obtain the mean and standard deviation of the dataset in order to later normalize the data. The first cell has the auxiliary function that calculates the mean and standard deviation, the second has the results of the first cell assigned to two variables in ordero to not run twice the statistics computation if the notebook was to be run in different moments. "
      ]
    },
    {
      "cell_type": "code",
      "execution_count": null,
      "id": "bb12acd2",
      "metadata": {
        "id": "bb12acd2"
      },
      "outputs": [],
      "source": [
        "###dataset_mean,dataset_std = compute_mean_and_std(bdf)"
      ]
    },
    {
      "cell_type": "code",
      "execution_count": null,
      "id": "991e4b38",
      "metadata": {
        "id": "991e4b38"
      },
      "outputs": [],
      "source": [
        "dataset_mean,dataset_std = (np.array([0.72728666]), np.array([0.15680092]))"
      ]
    },
    {
      "cell_type": "markdown",
      "id": "NxXIN6NU0nQ1",
      "metadata": {
        "id": "NxXIN6NU0nQ1"
      },
      "source": [
        "## Models"
      ]
    },
    {
      "cell_type": "markdown",
      "id": "0d2c865f",
      "metadata": {},
      "source": [
        "### New custom architecture"
      ]
    },
    {
      "cell_type": "markdown",
      "id": "Ypr-fksKP7ET",
      "metadata": {
        "id": "Ypr-fksKP7ET"
      },
      "source": [
        "Here there is the experimentation with the CustomNet architecture, a CNN that leverages residual learning and a residual inception block. More on this architecture can be foun in the thesis and in the \"custonet.py\" file."
      ]
    },
    {
      "cell_type": "code",
      "execution_count": null,
      "id": "ORF8zozukGMA",
      "metadata": {
        "id": "ORF8zozukGMA"
      },
      "outputs": [],
      "source": [
        "from customnet import CustomNet"
      ]
    },
    {
      "cell_type": "code",
      "execution_count": null,
      "id": "HySTy2V5kl_h",
      "metadata": {
        "colab": {
          "base_uri": "https://localhost:8080/",
          "height": 66,
          "referenced_widgets": [
            "98c0ee0ed8064b3483fa7c6b08334b27",
            "2a414cafda9547e4b2aa0f7af6841f7d",
            "85a79bcd3080463a8e4dd0fd358b6202",
            "8b212436854e4ddca9e82dd0f3b571cc",
            "d4df12fefa05464486b31b9299746917",
            "3762b35c6a0e4ef4ab1d06aab73d0ba0",
            "ace678c18db4411692b5d0738e7b6c56",
            "1a6efa1d5e974ee5a99556ea6dd1d2f9",
            "4e65ca3ff4d043eab74a6d42627d2032",
            "9b95a7a207824db5a6fc5d54e39a637f",
            "00fa0773cc0743b09fd6fa1edaeb8825"
          ]
        },
        "id": "HySTy2V5kl_h",
        "outputId": "b30fbb59-9a29-4052-dc4b-68caadd10c1e"
      },
      "outputs": [
        {
          "name": "stderr",
          "output_type": "stream",
          "text": [
            "Downloading: \"https://download.pytorch.org/models/resnet34-b627a593.pth\" to /root/.cache/torch/hub/checkpoints/resnet34-b627a593.pth\n"
          ]
        },
        {
          "data": {
            "application/vnd.jupyter.widget-view+json": {
              "model_id": "98c0ee0ed8064b3483fa7c6b08334b27",
              "version_major": 2,
              "version_minor": 0
            },
            "text/plain": [
              "  0%|          | 0.00/83.3M [00:00<?, ?B/s]"
            ]
          },
          "metadata": {},
          "output_type": "display_data"
        }
      ],
      "source": [
        "optimizer_config = {\n",
        "  \"optimizer_type\": \"adam\",\n",
        "  \"lr\": 3*1e-5,\n",
        "  \"weight_decay\": 1e-2\n",
        "}\n",
        "custom = CustomNet()\n",
        "optimizer = get_optimizer(custom, optimizer_config)"
      ]
    },
    {
      "cell_type": "code",
      "execution_count": null,
      "id": "wXP1ecvDkq8I",
      "metadata": {
        "id": "wXP1ecvDkq8I"
      },
      "outputs": [],
      "source": [
        "inp_size = (230, 350)\n",
        "data_base_path = '/content/path_to_directory/thesis_balanced/data'\n",
        "model_base_path = '/content/path_to_directory/thesis_balanced/models'\n",
        "is_cuda = True\n",
        "is_cuda = is_cuda and torch.cuda.is_available()"
      ]
    },
    {
      "cell_type": "code",
      "execution_count": null,
      "id": "gSCcm4OxkvnF",
      "metadata": {
        "id": "gSCcm4OxkvnF"
      },
      "outputs": [],
      "source": [
        "trainer = Trainer(data_dir=data_base_path, \n",
        "                  model = custom,\n",
        "                  optimizer = optimizer,\n",
        "                  model_dir = os.path.join(model_base_path, 'customnet'),\n",
        "                  train_data_transforms = get_efficent_augmentation_transforms(inp_size, dataset_mean, dataset_std),\n",
        "                  test_data_transforms = get_fundamental_transforms(inp_size, dataset_mean, dataset_std),\n",
        "                  batch_size = 16,\n",
        "                  load_from_disk = False,\n",
        "                  cuda = is_cuda\n",
        "                 )"
      ]
    },
    {
      "cell_type": "code",
      "execution_count": null,
      "id": "QOJfV2aCk0jc",
      "metadata": {
        "id": "QOJfV2aCk0jc"
      },
      "outputs": [],
      "source": [
        "trainer.train(num_epochs=110)"
      ]
    },
    {
      "cell_type": "code",
      "execution_count": null,
      "id": "NganshyTz9vS",
      "metadata": {
        "colab": {
          "base_uri": "https://localhost:8080/",
          "height": 573
        },
        "id": "NganshyTz9vS",
        "outputId": "bec9ecc1-b23b-40a2-975d-516c8fe872dd"
      },
      "outputs": [
        {
          "data": {
            "image/png": "[encoded data removed]",
            "text/plain": [
              "<Figure size 432x288 with 1 Axes>"
            ]
          },
          "metadata": {
            "needs_background": "light"
          },
          "output_type": "display_data"
        },
        {
          "data": {
            "image/png": "[encoded data removed]",
            "text/plain": [
              "<Figure size 432x288 with 1 Axes>"
            ]
          },
          "metadata": {
            "needs_background": "light"
          },
          "output_type": "display_data"
        }
      ],
      "source": [
        "trainer.plot_loss_history()\n",
        "trainer.plot_accuracy()"
      ]
    },
    {
      "cell_type": "code",
      "execution_count": null,
      "id": "HOwpsNUd0B_o",
      "metadata": {
        "colab": {
          "base_uri": "https://localhost:8080/"
        },
        "id": "HOwpsNUd0B_o",
        "outputId": "6e3fa2c5-295f-4a4d-f197-bff3870c63c8"
      },
      "outputs": [
        {
          "name": "stdout",
          "output_type": "stream",
          "text": [
            "Train Accuracy = 0.9354; Validation Accuracy = 0.9266\n"
          ]
        }
      ],
      "source": [
        "train_accuracy = trainer.train_accuracy_history[-1]\n",
        "validation_accuracy = trainer.validation_accuracy_history[-1]\n",
        "print('Train Accuracy = {:.4f}; Validation Accuracy = {:.4f}'.format(train_accuracy, validation_accuracy))"
      ]
    },
    {
      "cell_type": "code",
      "execution_count": null,
      "id": "Z5BVLv8U0IzN",
      "metadata": {
        "colab": {
          "base_uri": "https://localhost:8080/"
        },
        "id": "Z5BVLv8U0IzN",
        "outputId": "cdd49192-2b56-4099-ea1a-5892888496a3"
      },
      "outputs": [
        {
          "name": "stdout",
          "output_type": "stream",
          "text": [
            "0: Benign, 1: Malignant\n",
            "\n",
            "Confusion Matrix:\n",
            "                       predicted \n",
            "                      0       1         \n",
            "                  ---------------- \n",
            "            t  0  |  342  |  23  | \n",
            "            r     ---------------- \n",
            "            u  1  |  58   |  680 | \n",
            "            e     ---------------- \n",
            "\n",
            "Accuracy: 0.9265639165911151\n",
            "Sensitivty: 0.9214092140921409\n",
            "Specificity: 0.936986301369863\n",
            "Precision: 0.9672830725462305\n",
            "Negative predictive value:0.855\n",
            "Recall: 0.9214092140921409\n",
            "F1 score: 0.9437890353920888\n"
          ]
        }
      ],
      "source": [
        "trainer.confusion_matrix()"
      ]
    },
    {
      "cell_type": "markdown",
      "id": "R9NR3COe1AJU",
      "metadata": {
        "id": "R9NR3COe1AJU"
      },
      "source": [
        "#### Fine-tuning process"
      ]
    },
    {
      "cell_type": "markdown",
      "id": "_f865N3Q_2dZ",
      "metadata": {
        "id": "_f865N3Q_2dZ"
      },
      "source": [
        "Now the learning rate will be decreased and the parameters of the original ResNet34 will be made able to learn. This is the fine tuning stage of the CustomNet."
      ]
    },
    {
      "cell_type": "code",
      "execution_count": null,
      "id": "r_R82h4N0Lz6",
      "metadata": {
        "id": "r_R82h4N0Lz6"
      },
      "outputs": [],
      "source": [
        "for param in custom.parameters():\n",
        "            param.requires_grad = True"
      ]
    },
    {
      "cell_type": "code",
      "execution_count": null,
      "id": "GjuD9MBk0nt_",
      "metadata": {
        "id": "GjuD9MBk0nt_"
      },
      "outputs": [],
      "source": [
        "dd = trainer.optimizer.state_dict()"
      ]
    },
    {
      "cell_type": "code",
      "execution_count": null,
      "id": "ZdAy2tRq0tBz",
      "metadata": {
        "id": "ZdAy2tRq0tBz"
      },
      "outputs": [],
      "source": [
        "dd['param_groups'][0]['lr'] = 3*1e-6"
      ]
    },
    {
      "cell_type": "code",
      "execution_count": null,
      "id": "ZOZJd1nl0-AW",
      "metadata": {
        "id": "ZOZJd1nl0-AW"
      },
      "outputs": [],
      "source": [
        "trainer.optimizer.load_state_dict(dd)"
      ]
    },
    {
      "cell_type": "code",
      "execution_count": null,
      "id": "kynjSYSYfXkI",
      "metadata": {
        "id": "kynjSYSYfXkI"
      },
      "outputs": [],
      "source": [
        "trainer.train(num_epochs=30)"
      ]
    },
    {
      "cell_type": "code",
      "execution_count": null,
      "id": "c2jnpdKBtswa",
      "metadata": {
        "colab": {
          "base_uri": "https://localhost:8080/",
          "height": 573
        },
        "id": "c2jnpdKBtswa",
        "outputId": "bb8324da-6c5a-48fd-cc90-b1bfb8c6d8f1"
      },
      "outputs": [
        {
          "data": {
            "image/png": "[encoded data removed]",
            "text/plain": [
              "<Figure size 432x288 with 1 Axes>"
            ]
          },
          "metadata": {
            "needs_background": "light"
          },
          "output_type": "display_data"
        },
        {
          "data": {
            "image/png": "[encoded data removed]",
            "text/plain": [
              "<Figure size 432x288 with 1 Axes>"
            ]
          },
          "metadata": {
            "needs_background": "light"
          },
          "output_type": "display_data"
        }
      ],
      "source": [
        "trainer.plot_loss_history()\n",
        "trainer.plot_accuracy()"
      ]
    },
    {
      "cell_type": "code",
      "execution_count": null,
      "id": "fPQDSY-3j4Sg",
      "metadata": {
        "colab": {
          "base_uri": "https://localhost:8080/"
        },
        "id": "fPQDSY-3j4Sg",
        "outputId": "4a824598-2d79-4466-ea91-9fd56ccda4c3"
      },
      "outputs": [
        {
          "name": "stdout",
          "output_type": "stream",
          "text": [
            "Train Accuracy = 0.9982; Validation Accuracy = 0.9801\n"
          ]
        }
      ],
      "source": [
        "train_accuracy = trainer.train_accuracy_history[-1]\n",
        "validation_accuracy = trainer.validation_accuracy_history[-1]\n",
        "print('Train Accuracy = {:.4f}; Validation Accuracy = {:.4f}'.format(train_accuracy, validation_accuracy))"
      ]
    },
    {
      "cell_type": "code",
      "execution_count": null,
      "id": "tvTJGsOSj74i",
      "metadata": {
        "colab": {
          "base_uri": "https://localhost:8080/"
        },
        "id": "tvTJGsOSj74i",
        "outputId": "5f0e8be9-b472-4562-fe56-f0149ef5c4a5"
      },
      "outputs": [
        {
          "name": "stdout",
          "output_type": "stream",
          "text": [
            "0: Benign, 1: Malignant\n",
            "\n",
            "Confusion Matrix:\n",
            "                       predicted \n",
            "                      0       1         \n",
            "                  ---------------- \n",
            "            t  0  |  355  |  10  | \n",
            "            r     ---------------- \n",
            "            u  1  |  12   |  726 | \n",
            "            e     ---------------- \n",
            "\n",
            "Accuracy: 0.9800543970988214\n",
            "Sensitivty: 0.983739837398374\n",
            "Specificity: 0.9726027397260274\n",
            "Precision: 0.9864130434782609\n",
            "Negative predictive value:0.9673024523160763\n",
            "Recall: 0.983739837398374\n",
            "F1 score: 0.9850746268656717\n"
          ]
        }
      ],
      "source": [
        "trainer.confusion_matrix()"
      ]
    },
    {
      "cell_type": "code",
      "execution_count": null,
      "id": "4_7fhcGg8-n7",
      "metadata": {
        "id": "4_7fhcGg8-n7"
      },
      "outputs": [],
      "source": [
        "torch.save(custom.state_dict(), '/content/checkpoint_custom.pt' )"
      ]
    },
    {
      "cell_type": "markdown",
      "id": "sQchoUJLQx_4",
      "metadata": {
        "id": "sQchoUJLQx_4"
      },
      "source": [
        "### AlexNet\n"
      ]
    },
    {
      "cell_type": "markdown",
      "id": "aRmF5RyyHOym",
      "metadata": {
        "id": "aRmF5RyyHOym"
      },
      "source": [
        "This is the first transfer learning approach, where the use of an AlexNet will be leveraged. "
      ]
    },
    {
      "cell_type": "code",
      "execution_count": null,
      "id": "OOU5jWLMQ1yV",
      "metadata": {
        "id": "OOU5jWLMQ1yV"
      },
      "outputs": [],
      "source": [
        "from my_alexnet import MyAlexNet"
      ]
    },
    {
      "cell_type": "code",
      "execution_count": null,
      "id": "bO70HmFcRyBq",
      "metadata": {
        "id": "bO70HmFcRyBq"
      },
      "outputs": [],
      "source": [
        "optimizer_config = {\n",
        "  \"optimizer_type\": \"adam\",\n",
        "  \"lr\": 3*1e-5,\n",
        "  \"weight_decay\": 1e-6\n",
        "}\n",
        "my_alexnet = MyAlexNet()\n",
        "optimizer = get_optimizer(my_alexnet, optimizer_config)\n"
      ]
    },
    {
      "cell_type": "code",
      "execution_count": null,
      "id": "LPJZ_ZgiSFOG",
      "metadata": {
        "id": "LPJZ_ZgiSFOG"
      },
      "outputs": [],
      "source": [
        "inp_size = (230, 350)\n",
        "data_base_path = '/content/path_to_directory/thesis_balanced/data'\n",
        "model_base_path = '/content/path_to_directory/thesis_balanced/models'\n",
        "is_cuda = True\n",
        "is_cuda = is_cuda and torch.cuda.is_available() "
      ]
    },
    {
      "cell_type": "code",
      "execution_count": null,
      "id": "fr9hQYzDSADr",
      "metadata": {
        "id": "fr9hQYzDSADr"
      },
      "outputs": [],
      "source": [
        "trainer = Trainer(data_dir=data_base_path, \n",
        "                  model = my_alexnet,\n",
        "                  optimizer = optimizer,\n",
        "                  model_dir = os.path.join(model_base_path, 'alexnet'),\n",
        "                  train_data_transforms = get_fundamental_transforms(inp_size, dataset_mean, dataset_std),\n",
        "                  test_data_transforms = get_fundamental_transforms(inp_size, dataset_mean, dataset_std),\n",
        "                  batch_size = 32,\n",
        "                  load_from_disk = False,\n",
        "                  cuda = is_cuda\n",
        "                 )"
      ]
    },
    {
      "cell_type": "code",
      "execution_count": null,
      "id": "dxevYlvQa7w-",
      "metadata": {
        "id": "dxevYlvQa7w-"
      },
      "outputs": [],
      "source": [
        "trainer.train(num_epochs=50)"
      ]
    },
    {
      "cell_type": "code",
      "execution_count": null,
      "id": "zGP5QvV222CL",
      "metadata": {
        "colab": {
          "base_uri": "https://localhost:8080/",
          "height": 573
        },
        "id": "zGP5QvV222CL",
        "outputId": "0c507a80-3d1f-40e5-8a61-06b406e6c28e"
      },
      "outputs": [
        {
          "data": {
            "image/png": "[encoded data removed]",
            "text/plain": [
              "<Figure size 432x288 with 1 Axes>"
            ]
          },
          "metadata": {},
          "output_type": "display_data"
        },
        {
          "data": {
            "image/png": "[encoded data removed]",
            "text/plain": [
              "<Figure size 432x288 with 1 Axes>"
            ]
          },
          "metadata": {},
          "output_type": "display_data"
        }
      ],
      "source": [
        "trainer.plot_loss_history()\n",
        "trainer.plot_accuracy()"
      ]
    },
    {
      "cell_type": "code",
      "execution_count": null,
      "id": "ytXgsFbN3BCI",
      "metadata": {
        "colab": {
          "base_uri": "https://localhost:8080/"
        },
        "id": "ytXgsFbN3BCI",
        "outputId": "081ab372-d14f-4b57-da5d-9e7410a594e8"
      },
      "outputs": [
        {
          "name": "stdout",
          "output_type": "stream",
          "text": [
            "Train Accuracy = 0.9389; Validation Accuracy = 0.9184\n"
          ]
        }
      ],
      "source": [
        "train_accuracy = trainer.train_accuracy_history[-1]\n",
        "validation_accuracy = trainer.validation_accuracy_history[-1]\n",
        "print('Train Accuracy = {:.4f}; Validation Accuracy = {:.4f}'.format(train_accuracy, validation_accuracy))"
      ]
    },
    {
      "cell_type": "code",
      "execution_count": null,
      "id": "5Wd7Hhj93mQ6",
      "metadata": {
        "colab": {
          "base_uri": "https://localhost:8080/"
        },
        "id": "5Wd7Hhj93mQ6",
        "outputId": "b535f072-a2bd-46ff-87cc-b6b8b9bdfecd"
      },
      "outputs": [
        {
          "name": "stdout",
          "output_type": "stream",
          "text": [
            "0: Benign, 1: Malignant\n",
            "\n",
            "Confusion Matrix:\n",
            "                       predicted \n",
            "                      0       1         \n",
            "                  ---------------- \n",
            "            t  0  |  320  |  45  | \n",
            "            r     ---------------- \n",
            "            u  1  |  45   |  693 | \n",
            "            e     ---------------- \n",
            "\n",
            "Accuracy: 0.9184043517679057\n",
            "Sensitivty: 0.9390243902439024\n",
            "Specificity: 0.8767123287671232\n",
            "Precision: 0.9390243902439024\n",
            "Negative predictive value:0.8767123287671232\n",
            "Recall: 0.9390243902439024\n",
            "F1 score: 0.9390243902439024\n"
          ]
        }
      ],
      "source": [
        "trainer.confusion_matrix()"
      ]
    },
    {
      "cell_type": "markdown",
      "id": "F-A_AvHthR7H",
      "metadata": {
        "id": "F-A_AvHthR7H"
      },
      "source": [
        "### ResNet34"
      ]
    },
    {
      "cell_type": "markdown",
      "id": "lsSOmSIdlVhh",
      "metadata": {
        "id": "lsSOmSIdlVhh"
      },
      "source": [
        "Here a pre-trained ResNet34 will be evaluated. This model will turn out to be the best among the transfer-learning ones."
      ]
    },
    {
      "cell_type": "code",
      "execution_count": null,
      "id": "EUAmIECQBsTG",
      "metadata": {
        "id": "EUAmIECQBsTG"
      },
      "outputs": [],
      "source": [
        "from my_resnet34 import MyResNet34"
      ]
    },
    {
      "cell_type": "code",
      "execution_count": null,
      "id": "vx4ik1xLBsPe",
      "metadata": {
        "id": "vx4ik1xLBsPe"
      },
      "outputs": [],
      "source": [
        "optimizer_config = {\n",
        "  \"optimizer_type\": \"adam\",\n",
        "  \"lr\": 3*1e-4,\n",
        "  \"weight_decay\": 1e-3\n",
        "}\n",
        "my_resnet = MyResNet34()\n",
        "optimizer = get_optimizer(my_resnet, optimizer_config)"
      ]
    },
    {
      "cell_type": "code",
      "execution_count": null,
      "id": "M96yNePcBsLc",
      "metadata": {
        "id": "M96yNePcBsLc"
      },
      "outputs": [],
      "source": [
        "inp_size = (230, 350)\n",
        "data_base_path = '/content/path_to_directory/thesis_balanced/data'\n",
        "model_base_path = '/content/path_to_directory/thesis_balanced/models'\n",
        "is_cuda = True\n",
        "is_cuda = is_cuda and torch.cuda.is_available()"
      ]
    },
    {
      "cell_type": "code",
      "execution_count": null,
      "id": "hOqvClSCBsEI",
      "metadata": {
        "id": "hOqvClSCBsEI"
      },
      "outputs": [],
      "source": [
        "trainer = Trainer(data_dir=data_base_path, \n",
        "                  model = my_resnet,\n",
        "                  optimizer = optimizer,\n",
        "                  model_dir = os.path.join(model_base_path, 'resnet'),\n",
        "                  train_data_transforms = get_data_augmentation_transforms(inp_size, dataset_mean, dataset_std),\n",
        "                  test_data_transforms = get_fundamental_transforms(inp_size, dataset_mean, dataset_std),\n",
        "                  batch_size = 32,\n",
        "                  load_from_disk = False,\n",
        "                  cuda = is_cuda\n",
        "                 )"
      ]
    },
    {
      "cell_type": "code",
      "execution_count": null,
      "id": "CMyky1poBr5e",
      "metadata": {
        "id": "CMyky1poBr5e"
      },
      "outputs": [],
      "source": [
        "trainer.train(num_epochs=30)"
      ]
    },
    {
      "cell_type": "code",
      "execution_count": null,
      "id": "ychj6XMzbTAY",
      "metadata": {
        "colab": {
          "base_uri": "https://localhost:8080/",
          "height": 573
        },
        "id": "ychj6XMzbTAY",
        "outputId": "a69a5e7f-c849-4006-83ac-69ed16418912"
      },
      "outputs": [
        {
          "data": {
            "image/png": "[encoded data removed]",
            "text/plain": [
              "<Figure size 432x288 with 1 Axes>"
            ]
          },
          "metadata": {},
          "output_type": "display_data"
        },
        {
          "data": {
            "image/png": "[encoded data removed]",
            "text/plain": [
              "<Figure size 432x288 with 1 Axes>"
            ]
          },
          "metadata": {},
          "output_type": "display_data"
        }
      ],
      "source": [
        "trainer.plot_loss_history()\n",
        "trainer.plot_accuracy()"
      ]
    },
    {
      "cell_type": "code",
      "execution_count": null,
      "id": "I2WhT5iUbWbC",
      "metadata": {
        "colab": {
          "base_uri": "https://localhost:8080/"
        },
        "id": "I2WhT5iUbWbC",
        "outputId": "c0fe8678-13fe-4662-f011-182b30ec92a2"
      },
      "outputs": [
        {
          "name": "stdout",
          "output_type": "stream",
          "text": [
            "Train Accuracy = 0.9756; Validation Accuracy = 0.9583\n"
          ]
        }
      ],
      "source": [
        "train_accuracy = trainer.train_accuracy_history[-1]\n",
        "validation_accuracy = trainer.validation_accuracy_history[-1]\n",
        "print('Train Accuracy = {:.4f}; Validation Accuracy = {:.4f}'.format(train_accuracy, validation_accuracy))"
      ]
    },
    {
      "cell_type": "code",
      "execution_count": null,
      "id": "vX9wcPHYbc5Z",
      "metadata": {
        "colab": {
          "base_uri": "https://localhost:8080/"
        },
        "id": "vX9wcPHYbc5Z",
        "outputId": "0c0c80db-f1fc-41a0-bd05-a3baeed689e0"
      },
      "outputs": [
        {
          "name": "stdout",
          "output_type": "stream",
          "text": [
            "0: Benign, 1: Malignant\n",
            "\n",
            "Confusion Matrix:\n",
            "                       predicted \n",
            "                      0       1         \n",
            "                  ---------------- \n",
            "            t  0  |  356  |  9  | \n",
            "            r     ---------------- \n",
            "            u  1  |  37   |  701 | \n",
            "            e     ---------------- \n",
            "\n",
            "Accuracy: 0.958295557570263\n",
            "Sensitivty: 0.9498644986449865\n",
            "Specificity: 0.9753424657534246\n",
            "Precision: 0.9873239436619718\n",
            "Negative predictive value:0.905852417302799\n",
            "Recall: 0.9498644986449865\n",
            "F1 score: 0.9682320441988951\n"
          ]
        }
      ],
      "source": [
        "trainer.confusion_matrix()"
      ]
    },
    {
      "cell_type": "markdown",
      "id": "w9Y8-7MonEeG",
      "metadata": {
        "id": "w9Y8-7MonEeG"
      },
      "source": [
        "### VGGNet "
      ]
    },
    {
      "cell_type": "markdown",
      "id": "ycjyC39P1eBM",
      "metadata": {
        "id": "ycjyC39P1eBM"
      },
      "source": [
        "Here the the performance of a VGGnet 16 can be seen"
      ]
    },
    {
      "cell_type": "code",
      "execution_count": null,
      "id": "QXUYNyF8nILR",
      "metadata": {
        "id": "QXUYNyF8nILR"
      },
      "outputs": [],
      "source": [
        "from my_vggnet import MyVGGNet16"
      ]
    },
    {
      "cell_type": "code",
      "execution_count": null,
      "id": "k_LL3zdNqmU9",
      "metadata": {
        "colab": {
          "base_uri": "https://localhost:8080/",
          "height": 66,
          "referenced_widgets": [
            "c0ccf4a408de4a1c899a4f67ecd0333d",
            "0faadaafc1904d5f897aa24b2d2ec245",
            "db19e1930770494fbfd30ed70c2e832d",
            "0779e230f7514f699a094505e8e5652d",
            "7ceedaf94644445fab12dbe1dad96a6d",
            "af3333783097446cab5f3c3cc0f866e3",
            "f352139ea3f14ab9ab5476a9654c0f87",
            "dbe9709f6b1d4c0bbd1f023dbc1c0d8c",
            "8ba1ff5621434804b1ee26f33c657568",
            "3d7e1156357d466498c91937b7de9449",
            "f77f93514b304d6d947eb7ab172c1487"
          ]
        },
        "id": "k_LL3zdNqmU9",
        "outputId": "eca96dec-ca0c-4a92-f66f-0c575f0f8364"
      },
      "outputs": [
        {
          "name": "stderr",
          "output_type": "stream",
          "text": [
            "Downloading: \"https://download.pytorch.org/models/vgg16-397923af.pth\" to /root/.cache/torch/hub/checkpoints/vgg16-397923af.pth\n"
          ]
        },
        {
          "data": {
            "application/vnd.jupyter.widget-view+json": {
              "model_id": "c0ccf4a408de4a1c899a4f67ecd0333d",
              "version_major": 2,
              "version_minor": 0
            },
            "text/plain": [
              "  0%|          | 0.00/528M [00:00<?, ?B/s]"
            ]
          },
          "metadata": {},
          "output_type": "display_data"
        }
      ],
      "source": [
        "optimizer_config = {\n",
        "  \"optimizer_type\": \"adam\",\n",
        "  \"lr\": 3*1e-5,\n",
        "  \"weight_decay\": 1e-4\n",
        "}\n",
        "my_vgg = MyVGGNet16()\n",
        "optimizer = get_optimizer(my_vgg, optimizer_config)"
      ]
    },
    {
      "cell_type": "code",
      "execution_count": null,
      "id": "prKv-GTsqzFa",
      "metadata": {
        "id": "prKv-GTsqzFa"
      },
      "outputs": [],
      "source": [
        "inp_size = (230, 350)\n",
        "data_base_path = '/content/path_to_directory/thesis_balanced/data'\n",
        "model_base_path = '/content/path_to_directory/thesis_balacned/models'\n",
        "is_cuda = True\n",
        "is_cuda = is_cuda and torch.cuda.is_available() "
      ]
    },
    {
      "cell_type": "code",
      "execution_count": null,
      "id": "tUehPrmtq80l",
      "metadata": {
        "id": "tUehPrmtq80l"
      },
      "outputs": [],
      "source": [
        "trainer = Trainer(data_dir=data_base_path, \n",
        "                  model = my_vgg,\n",
        "                  optimizer = optimizer,\n",
        "                  model_dir = os.path.join(model_base_path, 'vggnet'),\n",
        "                  train_data_transforms = get_fundamental_transforms(inp_size, dataset_mean, dataset_std),\n",
        "                  test_data_transforms = get_fundamental_transforms(inp_size, dataset_mean, dataset_std),\n",
        "                  batch_size = 32,\n",
        "                  load_from_disk = False,\n",
        "                  cuda = is_cuda\n",
        "                 )"
      ]
    },
    {
      "cell_type": "code",
      "execution_count": null,
      "id": "kVcsR_6q4dTC",
      "metadata": {
        "id": "kVcsR_6q4dTC"
      },
      "outputs": [],
      "source": [
        "trainer.train(num_epochs=30)"
      ]
    },
    {
      "cell_type": "code",
      "execution_count": null,
      "id": "J1u6TN3C3wr7",
      "metadata": {
        "colab": {
          "base_uri": "https://localhost:8080/",
          "height": 573
        },
        "id": "J1u6TN3C3wr7",
        "outputId": "5300be13-617f-45bd-ad31-a67c1b42f5ff"
      },
      "outputs": [
        {
          "data": {
            "image/png": "[encoded data removed]",
            "text/plain": [
              "<Figure size 432x288 with 1 Axes>"
            ]
          },
          "metadata": {
            "needs_background": "light"
          },
          "output_type": "display_data"
        },
        {
          "data": {
            "image/png": "[encoded data removed]",
            "text/plain": [
              "<Figure size 432x288 with 1 Axes>"
            ]
          },
          "metadata": {
            "needs_background": "light"
          },
          "output_type": "display_data"
        }
      ],
      "source": [
        "trainer.plot_loss_history()\n",
        "trainer.plot_accuracy()"
      ]
    },
    {
      "cell_type": "code",
      "execution_count": null,
      "id": "VBMbVZYLkb6k",
      "metadata": {
        "colab": {
          "base_uri": "https://localhost:8080/"
        },
        "id": "VBMbVZYLkb6k",
        "outputId": "f2875446-140e-48cb-c015-2000fbd89a07"
      },
      "outputs": [
        {
          "name": "stdout",
          "output_type": "stream",
          "text": [
            "Train Accuracy = 0.9273; Validation Accuracy = 0.9066\n"
          ]
        }
      ],
      "source": [
        "train_accuracy = trainer.train_accuracy_history[-1]\n",
        "validation_accuracy = trainer.validation_accuracy_history[-1]\n",
        "print('Train Accuracy = {:.4f}; Validation Accuracy = {:.4f}'.format(train_accuracy, validation_accuracy))"
      ]
    },
    {
      "cell_type": "code",
      "execution_count": null,
      "id": "nzTWhfDdkdv6",
      "metadata": {
        "colab": {
          "base_uri": "https://localhost:8080/"
        },
        "id": "nzTWhfDdkdv6",
        "outputId": "281832d1-204b-4a2c-adf6-e49c98c520bf"
      },
      "outputs": [
        {
          "name": "stdout",
          "output_type": "stream",
          "text": [
            "0: Benign, 1: Malignant\n",
            "\n",
            "Confusion Matrix:\n",
            "                       predicted \n",
            "                      0       1         \n",
            "                  ---------------- \n",
            "            t  0  |  321  |  44  | \n",
            "            r     ---------------- \n",
            "            u  1  |  59   |  679 | \n",
            "            e     ---------------- \n",
            "\n",
            "Accuracy: 0.9066183136899365\n",
            "Sensitivty: 0.9200542005420054\n",
            "Specificity: 0.8794520547945206\n",
            "Precision: 0.9391424619640387\n",
            "Negative predictive value:0.8447368421052631\n",
            "Recall: 0.9200542005420054\n",
            "F1 score: 0.9295003422313484\n"
          ]
        }
      ],
      "source": [
        "trainer.confusion_matrix()"
      ]
    },
    {
      "cell_type": "markdown",
      "id": "8tsYoEV-L3eG",
      "metadata": {
        "id": "8tsYoEV-L3eG"
      },
      "source": [
        "### Efficient Net B0\n",
        "\n",
        "\n",
        "\n"
      ]
    },
    {
      "cell_type": "markdown",
      "id": "OxgtvXHQ1n4f",
      "metadata": {
        "id": "OxgtvXHQ1n4f"
      },
      "source": [
        "This is the code for the Efficient Net B0"
      ]
    },
    {
      "cell_type": "code",
      "execution_count": null,
      "id": "DPVWoMrFL6am",
      "metadata": {
        "id": "DPVWoMrFL6am"
      },
      "outputs": [],
      "source": [
        "from my_efficientnetb0 import MyEfficentnetB0"
      ]
    },
    {
      "cell_type": "code",
      "execution_count": null,
      "id": "fCOUVRHpHvwC",
      "metadata": {
        "id": "fCOUVRHpHvwC"
      },
      "outputs": [],
      "source": [
        "from typing import Tuple\n",
        "\n",
        "import torchvision.transforms as transforms\n",
        "import numpy as np\n",
        "\n",
        "\n",
        "def get_data_augmentation_transforms(inp_size, pixel_mean, pixel_std):\n",
        "\n",
        "    return transforms.Compose(\n",
        "        [\n",
        "            \n",
        "            transforms.Resize(inp_size),\n",
        "            transforms.RandomRotation(30),\n",
        "            transforms.RandomVerticalFlip(p=0.3),\n",
        "            transforms.ColorJitter (brightness=0.1, contrast=0.1, saturation=0.1, hue=0.1),\n",
        "            transforms.RandomAffine(0,(0.1,0.1)),\n",
        "            transforms.ToTensor(),\n",
        "            transforms.Normalize(pixel_mean, pixel_std, inplace=True)\n",
        "        ]\n",
        "    )\n",
        "\n"
      ]
    },
    {
      "cell_type": "code",
      "execution_count": null,
      "id": "2SlNk1aJMTBw",
      "metadata": {
        "colab": {
          "base_uri": "https://localhost:8080/",
          "referenced_widgets": [
            "895d543ad7f34ce3a08abf735a9aa9e8",
            "21a5ff693dd043d998ccab6fa4c219a4",
            "0963a032641f4cd1893cb7dc12ad10d8",
            "0b20bc29df6d4c94a127de826f1f72ca",
            "3f608a42e12844de83ef1e772c9761fb",
            "aecde7e9718546e8b7dc3ae59751c593",
            "e63244c3fdab40dbb2d3d211a5d6cc3d",
            "e3ecafa115e34d2aba5f225eda7cbf4d",
            "b1b8011da8104a3198e7d9684acbc2f0",
            "70e03c52980b41edb7160256e9eca2d8",
            "9294e2961bb44fcf91a6bcc7b0853859"
          ]
        },
        "id": "2SlNk1aJMTBw",
        "outputId": "e3bbf9ad-5223-4f69-9733-5a575620e1f8"
      },
      "outputs": [
        {
          "name": "stderr",
          "output_type": "stream",
          "text": [
            "Downloading: \"https://download.pytorch.org/models/efficientnet_b0_rwightman-3dd342df.pth\" to /root/.cache/torch/hub/checkpoints/efficientnet_b0_rwightman-3dd342df.pth\n"
          ]
        },
        {
          "data": {
            "application/vnd.jupyter.widget-view+json": {
              "model_id": "895d543ad7f34ce3a08abf735a9aa9e8",
              "version_major": 2,
              "version_minor": 0
            },
            "text/plain": [
              "  0%|          | 0.00/20.5M [00:00<?, ?B/s]"
            ]
          },
          "metadata": {},
          "output_type": "display_data"
        }
      ],
      "source": [
        "optimizer_config = {\n",
        "  \"optimizer_type\": \"adam\",\n",
        "  \"lr\": 3*1e-4,\n",
        "  \"weight_decay\": 1e-2\n",
        "}\n",
        "my_eff = MyEfficentnetB0()\n",
        "optimizer = get_optimizer(my_eff, optimizer_config)"
      ]
    },
    {
      "cell_type": "code",
      "execution_count": null,
      "id": "C1RjJecgMYBS",
      "metadata": {
        "id": "C1RjJecgMYBS"
      },
      "outputs": [],
      "source": [
        "inp_size = (230, 350)\n",
        "data_base_path = '/content/path_to_directory/thesis_balanced/data'\n",
        "model_base_path = '/content/path_to_directory/thesis_balanced/models'\n",
        "is_cuda = True\n",
        "is_cuda = is_cuda and torch.cuda.is_available()"
      ]
    },
    {
      "cell_type": "code",
      "execution_count": null,
      "id": "0aXZO_TWNFVr",
      "metadata": {
        "id": "0aXZO_TWNFVr"
      },
      "outputs": [],
      "source": [
        "trainer = Trainer(data_dir=data_base_path, \n",
        "                  model = my_eff,\n",
        "                  optimizer = optimizer,\n",
        "                  model_dir = os.path.join(model_base_path, 'alexnet'),\n",
        "                  train_data_transforms = get_data_augmentation_transforms(inp_size, dataset_mean, dataset_std),\n",
        "                  test_data_transforms = get_fundamental_transforms(inp_size, dataset_mean, dataset_std),\n",
        "                  batch_size = 64,\n",
        "                  load_from_disk = False,\n",
        "                  cuda = is_cuda\n",
        "                 )"
      ]
    },
    {
      "cell_type": "code",
      "execution_count": null,
      "id": "p1rpjlQ9Npmj",
      "metadata": {
        "id": "p1rpjlQ9Npmj"
      },
      "outputs": [],
      "source": [
        "trainer.train(num_epochs=40)"
      ]
    },
    {
      "cell_type": "code",
      "execution_count": null,
      "id": "vxu-VjW-RgtY",
      "metadata": {
        "colab": {
          "base_uri": "https://localhost:8080/"
        },
        "id": "vxu-VjW-RgtY",
        "outputId": "0fc48521-7ea9-4b6e-db62-3ac49d7e7be3"
      },
      "outputs": [
        {
          "data": {
            "image/png": "[encoded data removed]",
            "text/plain": [
              "<Figure size 432x288 with 1 Axes>"
            ]
          },
          "metadata": {
            "needs_background": "light"
          },
          "output_type": "display_data"
        },
        {
          "data": {
            "image/png": "[encoded data removed]",
            "text/plain": [
              "<Figure size 432x288 with 1 Axes>"
            ]
          },
          "metadata": {
            "needs_background": "light"
          },
          "output_type": "display_data"
        }
      ],
      "source": [
        "trainer.plot_loss_history()\n",
        "trainer.plot_accuracy()"
      ]
    },
    {
      "cell_type": "code",
      "execution_count": null,
      "id": "t1wD1wJ51RdH",
      "metadata": {
        "colab": {
          "base_uri": "https://localhost:8080/"
        },
        "id": "t1wD1wJ51RdH",
        "outputId": "dd6d2ad1-2679-4b8a-c3b5-8b851db2cc9e"
      },
      "outputs": [
        {
          "name": "stdout",
          "output_type": "stream",
          "text": [
            "Train Accuracy = 0.9229; Validation Accuracy = 0.8803\n"
          ]
        }
      ],
      "source": [
        "train_accuracy = trainer.train_accuracy_history[-1]\n",
        "validation_accuracy = trainer.validation_accuracy_history[-1]\n",
        "print('Train Accuracy = {:.4f}; Validation Accuracy = {:.4f}'.format(train_accuracy, validation_accuracy))"
      ]
    },
    {
      "cell_type": "code",
      "execution_count": null,
      "id": "QV8YAZ401Stl",
      "metadata": {
        "colab": {
          "base_uri": "https://localhost:8080/"
        },
        "id": "QV8YAZ401Stl",
        "outputId": "4650963a-1679-4958-b59b-f598ba485b85"
      },
      "outputs": [
        {
          "name": "stdout",
          "output_type": "stream",
          "text": [
            "0: Benign, 1: Malignant\n",
            "\n",
            "Confusion Matrix:\n",
            "                       predicted \n",
            "                      0       1         \n",
            "                  ---------------- \n",
            "            t  0  |  322  |  43  | \n",
            "            r     ---------------- \n",
            "            u  1  |  89   |  649 | \n",
            "            e     ---------------- \n",
            "\n",
            "Accuracy: 0.8803263825929284\n",
            "Sensitivty: 0.8794037940379403\n",
            "Specificity: 0.8821917808219178\n",
            "Precision: 0.9378612716763006\n",
            "Negative predictive value:0.7834549878345499\n",
            "Recall: 0.8794037940379403\n",
            "F1 score: 0.9076923076923076\n"
          ]
        }
      ],
      "source": [
        "trainer.confusion_matrix()"
      ]
    },
    {
      "cell_type": "markdown",
      "id": "jhA3sUuqJBTU",
      "metadata": {
        "id": "jhA3sUuqJBTU"
      },
      "source": [
        "### XGBoost classifier\n"
      ]
    },
    {
      "cell_type": "markdown",
      "id": "uXKZ4h9r17er",
      "metadata": {
        "id": "uXKZ4h9r17er"
      },
      "source": [
        "Here a convolutioanl XGBoost will be evaluated. The model is made up of the feature extraction part of the pre-trained AlexNet, and an XGBoost classifier"
      ]
    },
    {
      "cell_type": "code",
      "execution_count": null,
      "id": "cxSb6u8LXzFA",
      "metadata": {
        "id": "cxSb6u8LXzFA"
      },
      "outputs": [],
      "source": [
        "my_alexnet.to('cpu')\n",
        "\n",
        "xgb_test = get_frame_from_data_alex(my_alexnet,\n",
        "                                    '/content/path_to_directory/thesis_balanced/data',\n",
        "                                    inp_size,\n",
        "                                    dataset_mean,\n",
        "                                    dataset_std ,\n",
        "                                    'test' )"
      ]
    },
    {
      "cell_type": "code",
      "execution_count": null,
      "id": "rQNNcba9dy2Y",
      "metadata": {
        "id": "rQNNcba9dy2Y"
      },
      "outputs": [],
      "source": [
        "### To save feature extracted\n",
        "xgb_test.to_pickle(\"xgb_test.pkl\")"
      ]
    },
    {
      "cell_type": "code",
      "execution_count": null,
      "id": "v0GIDf_IcIMs",
      "metadata": {
        "id": "v0GIDf_IcIMs"
      },
      "outputs": [],
      "source": [
        "xgb_train = get_frame_from_data_alex(my_alexnet, '/content/path_to_directory/thesis_balanced/data', inp_size, dataset_mean, dataset_std, 'train' )\n"
      ]
    },
    {
      "cell_type": "code",
      "execution_count": null,
      "id": "VYUP7QCBg9mt",
      "metadata": {
        "id": "VYUP7QCBg9mt"
      },
      "outputs": [],
      "source": [
        "### To save feature extracted\n",
        "xgb_train.to_pickle(\"xgb_train.pkl\")"
      ]
    },
    {
      "cell_type": "code",
      "execution_count": null,
      "id": "f5vvBQbRUW23",
      "metadata": {
        "id": "f5vvBQbRUW23"
      },
      "outputs": [],
      "source": [
        "xgb_test = pd.read_pickle(\"/content/xgb_test.pkl\")"
      ]
    },
    {
      "cell_type": "code",
      "execution_count": null,
      "id": "IYkR0i04UjuA",
      "metadata": {
        "colab": {
          "base_uri": "https://localhost:8080/"
        },
        "id": "IYkR0i04UjuA",
        "outputId": "393b79b9-6368-4db5-c3e7-7fbef1fb179a"
      },
      "outputs": [
        {
          "data": {
            "text/html": [
              "\n",
              "  <div id=\"df-a028d231-98d2-4f82-9aa4-1d14d5eabe7f\">\n",
              "    <div class=\"colab-df-container\">\n",
              "      <div>\n",
              "<style scoped>\n",
              "    .dataframe tbody tr th:only-of-type {\n",
              "        vertical-align: middle;\n",
              "    }\n",
              "\n",
              "    .dataframe tbody tr th {\n",
              "        vertical-align: top;\n",
              "    }\n",
              "\n",
              "    .dataframe thead th {\n",
              "        text-align: right;\n",
              "    }\n",
              "</style>\n",
              "<table border=\"1\" class=\"dataframe\">\n",
              "  <thead>\n",
              "    <tr style=\"text-align: right;\">\n",
              "      <th></th>\n",
              "      <th>feature</th>\n",
              "      <th>class</th>\n",
              "    </tr>\n",
              "  </thead>\n",
              "  <tbody>\n",
              "    <tr>\n",
              "      <th>0</th>\n",
              "      <td>[0.0, 0.0, 0.0, 0.0, 0.0, 0.0, 0.0, 0.0, 0.0, ...</td>\n",
              "      <td>1</td>\n",
              "    </tr>\n",
              "    <tr>\n",
              "      <th>1</th>\n",
              "      <td>[0.0, 0.0, 0.0, 0.5733544, 0.777936, 0.0, 0.0,...</td>\n",
              "      <td>0</td>\n",
              "    </tr>\n",
              "    <tr>\n",
              "      <th>2</th>\n",
              "      <td>[0.0, 0.0, 0.0, 0.0, 0.0, 0.0, 0.0, 0.0, 0.0, ...</td>\n",
              "      <td>1</td>\n",
              "    </tr>\n",
              "    <tr>\n",
              "      <th>3</th>\n",
              "      <td>[0.0, 0.0, 0.0, 0.0, 0.0, 0.8352599, 2.6861143...</td>\n",
              "      <td>0</td>\n",
              "    </tr>\n",
              "    <tr>\n",
              "      <th>4</th>\n",
              "      <td>[0.0, 0.0, 0.0, 0.0, 0.0, 0.0, 0.0, 0.0, 0.0, ...</td>\n",
              "      <td>1</td>\n",
              "    </tr>\n",
              "    <tr>\n",
              "      <th>...</th>\n",
              "      <td>...</td>\n",
              "      <td>...</td>\n",
              "    </tr>\n",
              "    <tr>\n",
              "      <th>1098</th>\n",
              "      <td>[0.08707843, 0.0, 0.0, 0.0, 0.0, 0.0, 0.0, 0.0...</td>\n",
              "      <td>0</td>\n",
              "    </tr>\n",
              "    <tr>\n",
              "      <th>1099</th>\n",
              "      <td>[1.4398767, 0.0, 0.0, 0.0, 0.0, 0.0, 0.0, 0.0,...</td>\n",
              "      <td>0</td>\n",
              "    </tr>\n",
              "    <tr>\n",
              "      <th>1100</th>\n",
              "      <td>[0.0, 0.0, 0.0, 0.0, 0.0, 0.0, 0.0, 0.0, 0.0, ...</td>\n",
              "      <td>1</td>\n",
              "    </tr>\n",
              "    <tr>\n",
              "      <th>1101</th>\n",
              "      <td>[0.8090333, 0.0, 0.0, 0.0, 0.30279192, 0.82967...</td>\n",
              "      <td>0</td>\n",
              "    </tr>\n",
              "    <tr>\n",
              "      <th>1102</th>\n",
              "      <td>[0.52626854, 0.0, 0.0, 0.0, 0.0, 0.0, 0.0, 0.0...</td>\n",
              "      <td>1</td>\n",
              "    </tr>\n",
              "  </tbody>\n",
              "</table>\n",
              "<p>1103 rows × 2 columns</p>\n",
              "</div>\n",
              "      <button class=\"colab-df-convert\" onclick=\"convertToInteractive('df-a028d231-98d2-4f82-9aa4-1d14d5eabe7f')\"\n",
              "              title=\"Convert this dataframe to an interactive table.\"\n",
              "              style=\"display:none;\">\n",
              "        \n",
              "  <svg xmlns=\"http://www.w3.org/2000/svg\" height=\"24px\"viewBox=\"0 0 24 24\"\n",
              "       width=\"24px\">\n",
              "    <path d=\"M0 0h24v24H0V0z\" fill=\"none\"/>\n",
              "    <path d=\"M18.56 5.44l.94 2.06.94-2.06 2.06-.94-2.06-.94-.94-2.06-.94 2.06-2.06.94zm-11 1L8.5 8.5l.94-2.06 2.06-.94-2.06-.94L8.5 2.5l-.94 2.06-2.06.94zm10 10l.94 2.06.94-2.06 2.06-.94-2.06-.94-.94-2.06-.94 2.06-2.06.94z\"/><path d=\"M17.41 7.96l-1.37-1.37c-.4-.4-.92-.59-1.43-.59-.52 0-1.04.2-1.43.59L10.3 9.45l-7.72 7.72c-.78.78-.78 2.05 0 2.83L4 21.41c.39.39.9.59 1.41.59.51 0 1.02-.2 1.41-.59l7.78-7.78 2.81-2.81c.8-.78.8-2.07 0-2.86zM5.41 20L4 18.59l7.72-7.72 1.47 1.35L5.41 20z\"/>\n",
              "  </svg>\n",
              "      </button>\n",
              "      \n",
              "  <style>\n",
              "    .colab-df-container {\n",
              "      display:flex;\n",
              "      flex-wrap:wrap;\n",
              "      gap: 12px;\n",
              "    }\n",
              "\n",
              "    .colab-df-convert {\n",
              "      background-color: #E8F0FE;\n",
              "      border: none;\n",
              "      border-radius: 50%;\n",
              "      cursor: pointer;\n",
              "      display: none;\n",
              "      fill: #1967D2;\n",
              "      height: 32px;\n",
              "      padding: 0 0 0 0;\n",
              "      width: 32px;\n",
              "    }\n",
              "\n",
              "    .colab-df-convert:hover {\n",
              "      background-color: #E2EBFA;\n",
              "      box-shadow: 0px 1px 2px rgba(60, 64, 67, 0.3), 0px 1px 3px 1px rgba(60, 64, 67, 0.15);\n",
              "      fill: #174EA6;\n",
              "    }\n",
              "\n",
              "    [theme=dark] .colab-df-convert {\n",
              "      background-color: #3B4455;\n",
              "      fill: #D2E3FC;\n",
              "    }\n",
              "\n",
              "    [theme=dark] .colab-df-convert:hover {\n",
              "      background-color: #434B5C;\n",
              "      box-shadow: 0px 1px 3px 1px rgba(0, 0, 0, 0.15);\n",
              "      filter: drop-shadow(0px 1px 2px rgba(0, 0, 0, 0.3));\n",
              "      fill: #FFFFFF;\n",
              "    }\n",
              "  </style>\n",
              "\n",
              "      <script>\n",
              "        const buttonEl =\n",
              "          document.querySelector('#df-a028d231-98d2-4f82-9aa4-1d14d5eabe7f button.colab-df-convert');\n",
              "        buttonEl.style.display =\n",
              "          google.colab.kernel.accessAllowed ? 'block' : 'none';\n",
              "\n",
              "        async function convertToInteractive(key) {\n",
              "          const element = document.querySelector('#df-a028d231-98d2-4f82-9aa4-1d14d5eabe7f');\n",
              "          const dataTable =\n",
              "            await google.colab.kernel.invokeFunction('convertToInteractive',\n",
              "                                                     [key], {});\n",
              "          if (!dataTable) return;\n",
              "\n",
              "          const docLinkHtml = 'Like what you see? Visit the ' +\n",
              "            '<a target=\"_blank\" href=https://colab.research.google.com/notebooks/data_table.ipynb>data table notebook</a>'\n",
              "            + ' to learn more about interactive tables.';\n",
              "          element.innerHTML = '';\n",
              "          dataTable['output_type'] = 'display_data';\n",
              "          await google.colab.output.renderOutput(dataTable, element);\n",
              "          const docLink = document.createElement('div');\n",
              "          docLink.innerHTML = docLinkHtml;\n",
              "          element.appendChild(docLink);\n",
              "        }\n",
              "      </script>\n",
              "    </div>\n",
              "  </div>\n",
              "  "
            ],
            "text/plain": [
              "                                                feature  class\n",
              "0     [0.0, 0.0, 0.0, 0.0, 0.0, 0.0, 0.0, 0.0, 0.0, ...      1\n",
              "1     [0.0, 0.0, 0.0, 0.5733544, 0.777936, 0.0, 0.0,...      0\n",
              "2     [0.0, 0.0, 0.0, 0.0, 0.0, 0.0, 0.0, 0.0, 0.0, ...      1\n",
              "3     [0.0, 0.0, 0.0, 0.0, 0.0, 0.8352599, 2.6861143...      0\n",
              "4     [0.0, 0.0, 0.0, 0.0, 0.0, 0.0, 0.0, 0.0, 0.0, ...      1\n",
              "...                                                 ...    ...\n",
              "1098  [0.08707843, 0.0, 0.0, 0.0, 0.0, 0.0, 0.0, 0.0...      0\n",
              "1099  [1.4398767, 0.0, 0.0, 0.0, 0.0, 0.0, 0.0, 0.0,...      0\n",
              "1100  [0.0, 0.0, 0.0, 0.0, 0.0, 0.0, 0.0, 0.0, 0.0, ...      1\n",
              "1101  [0.8090333, 0.0, 0.0, 0.0, 0.30279192, 0.82967...      0\n",
              "1102  [0.52626854, 0.0, 0.0, 0.0, 0.0, 0.0, 0.0, 0.0...      1\n",
              "\n",
              "[1103 rows x 2 columns]"
            ]
          },
          "execution_count": 4,
          "metadata": {},
          "output_type": "execute_result"
        }
      ],
      "source": [
        "xgb_test"
      ]
    },
    {
      "cell_type": "code",
      "execution_count": null,
      "id": "s0DtNJNyUq3Q",
      "metadata": {
        "colab": {
          "base_uri": "https://localhost:8080/"
        },
        "id": "s0DtNJNyUq3Q",
        "outputId": "5f926115-e20c-4d9f-92d9-30d045d22580"
      },
      "outputs": [
        {
          "data": {
            "text/plain": [
              "9216"
            ]
          },
          "execution_count": 5,
          "metadata": {},
          "output_type": "execute_result"
        }
      ],
      "source": [
        "len(xgb_test['feature'][0])"
      ]
    },
    {
      "cell_type": "code",
      "execution_count": null,
      "id": "pTKNZ_GSUvjL",
      "metadata": {
        "id": "pTKNZ_GSUvjL"
      },
      "outputs": [],
      "source": [
        "l=[]\n",
        "for x,y in xgb_test['feature'].iteritems():\n",
        "    l.append(y)\n",
        "    \n",
        "XGB_test = pd.concat([pd.DataFrame(np.array(l)),xgb_test['class']],axis=1)"
      ]
    },
    {
      "cell_type": "code",
      "execution_count": null,
      "id": "7WRoTFXQVEPL",
      "metadata": {
        "colab": {
          "base_uri": "https://localhost:8080/"
        },
        "id": "7WRoTFXQVEPL",
        "outputId": "00abf32c-0912-4ebd-c1c0-233de233bfc7"
      },
      "outputs": [
        {
          "data": {
            "text/html": [
              "\n",
              "  <div id=\"df-2d655c02-3712-4c0a-8a7b-c8a2a6493540\">\n",
              "    <div class=\"colab-df-container\">\n",
              "      <div>\n",
              "<style scoped>\n",
              "    .dataframe tbody tr th:only-of-type {\n",
              "        vertical-align: middle;\n",
              "    }\n",
              "\n",
              "    .dataframe tbody tr th {\n",
              "        vertical-align: top;\n",
              "    }\n",
              "\n",
              "    .dataframe thead th {\n",
              "        text-align: right;\n",
              "    }\n",
              "</style>\n",
              "<table border=\"1\" class=\"dataframe\">\n",
              "  <thead>\n",
              "    <tr style=\"text-align: right;\">\n",
              "      <th></th>\n",
              "      <th>0</th>\n",
              "      <th>1</th>\n",
              "      <th>2</th>\n",
              "      <th>3</th>\n",
              "      <th>4</th>\n",
              "      <th>5</th>\n",
              "      <th>6</th>\n",
              "      <th>7</th>\n",
              "      <th>8</th>\n",
              "      <th>9</th>\n",
              "      <th>...</th>\n",
              "      <th>9207</th>\n",
              "      <th>9208</th>\n",
              "      <th>9209</th>\n",
              "      <th>9210</th>\n",
              "      <th>9211</th>\n",
              "      <th>9212</th>\n",
              "      <th>9213</th>\n",
              "      <th>9214</th>\n",
              "      <th>9215</th>\n",
              "      <th>class</th>\n",
              "    </tr>\n",
              "  </thead>\n",
              "  <tbody>\n",
              "    <tr>\n",
              "      <th>0</th>\n",
              "      <td>0.000000</td>\n",
              "      <td>0.0</td>\n",
              "      <td>0.0</td>\n",
              "      <td>0.000000</td>\n",
              "      <td>0.000000</td>\n",
              "      <td>0.000000</td>\n",
              "      <td>0.000000</td>\n",
              "      <td>0.000000</td>\n",
              "      <td>0.0</td>\n",
              "      <td>0.000000</td>\n",
              "      <td>...</td>\n",
              "      <td>0.000000</td>\n",
              "      <td>0.000000</td>\n",
              "      <td>0.163952</td>\n",
              "      <td>0.000000</td>\n",
              "      <td>0.000000</td>\n",
              "      <td>0.000000</td>\n",
              "      <td>0.000000</td>\n",
              "      <td>0.000000</td>\n",
              "      <td>0.000000</td>\n",
              "      <td>1</td>\n",
              "    </tr>\n",
              "    <tr>\n",
              "      <th>1</th>\n",
              "      <td>0.000000</td>\n",
              "      <td>0.0</td>\n",
              "      <td>0.0</td>\n",
              "      <td>0.573354</td>\n",
              "      <td>0.777936</td>\n",
              "      <td>0.000000</td>\n",
              "      <td>0.000000</td>\n",
              "      <td>0.000000</td>\n",
              "      <td>0.0</td>\n",
              "      <td>0.000000</td>\n",
              "      <td>...</td>\n",
              "      <td>0.000000</td>\n",
              "      <td>0.000000</td>\n",
              "      <td>0.245834</td>\n",
              "      <td>0.000000</td>\n",
              "      <td>0.000000</td>\n",
              "      <td>0.000000</td>\n",
              "      <td>0.000000</td>\n",
              "      <td>0.000000</td>\n",
              "      <td>0.000000</td>\n",
              "      <td>0</td>\n",
              "    </tr>\n",
              "    <tr>\n",
              "      <th>2</th>\n",
              "      <td>0.000000</td>\n",
              "      <td>0.0</td>\n",
              "      <td>0.0</td>\n",
              "      <td>0.000000</td>\n",
              "      <td>0.000000</td>\n",
              "      <td>0.000000</td>\n",
              "      <td>0.000000</td>\n",
              "      <td>0.000000</td>\n",
              "      <td>0.0</td>\n",
              "      <td>0.000000</td>\n",
              "      <td>...</td>\n",
              "      <td>2.103850</td>\n",
              "      <td>0.311706</td>\n",
              "      <td>0.291864</td>\n",
              "      <td>1.196880</td>\n",
              "      <td>1.540287</td>\n",
              "      <td>1.325632</td>\n",
              "      <td>2.362518</td>\n",
              "      <td>0.000000</td>\n",
              "      <td>0.000000</td>\n",
              "      <td>1</td>\n",
              "    </tr>\n",
              "    <tr>\n",
              "      <th>3</th>\n",
              "      <td>0.000000</td>\n",
              "      <td>0.0</td>\n",
              "      <td>0.0</td>\n",
              "      <td>0.000000</td>\n",
              "      <td>0.000000</td>\n",
              "      <td>0.835260</td>\n",
              "      <td>2.686114</td>\n",
              "      <td>0.404865</td>\n",
              "      <td>0.0</td>\n",
              "      <td>0.000000</td>\n",
              "      <td>...</td>\n",
              "      <td>0.404696</td>\n",
              "      <td>0.188840</td>\n",
              "      <td>0.000000</td>\n",
              "      <td>0.000000</td>\n",
              "      <td>0.000000</td>\n",
              "      <td>0.000000</td>\n",
              "      <td>0.942901</td>\n",
              "      <td>0.942901</td>\n",
              "      <td>0.000000</td>\n",
              "      <td>0</td>\n",
              "    </tr>\n",
              "    <tr>\n",
              "      <th>4</th>\n",
              "      <td>0.000000</td>\n",
              "      <td>0.0</td>\n",
              "      <td>0.0</td>\n",
              "      <td>0.000000</td>\n",
              "      <td>0.000000</td>\n",
              "      <td>0.000000</td>\n",
              "      <td>0.000000</td>\n",
              "      <td>0.000000</td>\n",
              "      <td>0.0</td>\n",
              "      <td>0.037357</td>\n",
              "      <td>...</td>\n",
              "      <td>0.000000</td>\n",
              "      <td>0.000000</td>\n",
              "      <td>0.000000</td>\n",
              "      <td>0.000000</td>\n",
              "      <td>0.000000</td>\n",
              "      <td>0.000000</td>\n",
              "      <td>0.000000</td>\n",
              "      <td>0.000000</td>\n",
              "      <td>0.000000</td>\n",
              "      <td>1</td>\n",
              "    </tr>\n",
              "    <tr>\n",
              "      <th>...</th>\n",
              "      <td>...</td>\n",
              "      <td>...</td>\n",
              "      <td>...</td>\n",
              "      <td>...</td>\n",
              "      <td>...</td>\n",
              "      <td>...</td>\n",
              "      <td>...</td>\n",
              "      <td>...</td>\n",
              "      <td>...</td>\n",
              "      <td>...</td>\n",
              "      <td>...</td>\n",
              "      <td>...</td>\n",
              "      <td>...</td>\n",
              "      <td>...</td>\n",
              "      <td>...</td>\n",
              "      <td>...</td>\n",
              "      <td>...</td>\n",
              "      <td>...</td>\n",
              "      <td>...</td>\n",
              "      <td>...</td>\n",
              "      <td>...</td>\n",
              "    </tr>\n",
              "    <tr>\n",
              "      <th>1098</th>\n",
              "      <td>0.087078</td>\n",
              "      <td>0.0</td>\n",
              "      <td>0.0</td>\n",
              "      <td>0.000000</td>\n",
              "      <td>0.000000</td>\n",
              "      <td>0.000000</td>\n",
              "      <td>0.000000</td>\n",
              "      <td>0.000000</td>\n",
              "      <td>0.0</td>\n",
              "      <td>0.000000</td>\n",
              "      <td>...</td>\n",
              "      <td>0.000000</td>\n",
              "      <td>0.000000</td>\n",
              "      <td>0.000000</td>\n",
              "      <td>0.000000</td>\n",
              "      <td>0.000000</td>\n",
              "      <td>0.000000</td>\n",
              "      <td>0.000000</td>\n",
              "      <td>0.000000</td>\n",
              "      <td>0.004172</td>\n",
              "      <td>0</td>\n",
              "    </tr>\n",
              "    <tr>\n",
              "      <th>1099</th>\n",
              "      <td>1.439877</td>\n",
              "      <td>0.0</td>\n",
              "      <td>0.0</td>\n",
              "      <td>0.000000</td>\n",
              "      <td>0.000000</td>\n",
              "      <td>0.000000</td>\n",
              "      <td>0.000000</td>\n",
              "      <td>0.000000</td>\n",
              "      <td>0.0</td>\n",
              "      <td>0.000000</td>\n",
              "      <td>...</td>\n",
              "      <td>0.000000</td>\n",
              "      <td>0.000000</td>\n",
              "      <td>0.000000</td>\n",
              "      <td>0.692512</td>\n",
              "      <td>0.000000</td>\n",
              "      <td>0.000000</td>\n",
              "      <td>0.000000</td>\n",
              "      <td>0.000000</td>\n",
              "      <td>0.000000</td>\n",
              "      <td>0</td>\n",
              "    </tr>\n",
              "    <tr>\n",
              "      <th>1100</th>\n",
              "      <td>0.000000</td>\n",
              "      <td>0.0</td>\n",
              "      <td>0.0</td>\n",
              "      <td>0.000000</td>\n",
              "      <td>0.000000</td>\n",
              "      <td>0.000000</td>\n",
              "      <td>0.000000</td>\n",
              "      <td>0.000000</td>\n",
              "      <td>0.0</td>\n",
              "      <td>0.000000</td>\n",
              "      <td>...</td>\n",
              "      <td>0.000000</td>\n",
              "      <td>0.000000</td>\n",
              "      <td>0.000000</td>\n",
              "      <td>0.000000</td>\n",
              "      <td>0.000000</td>\n",
              "      <td>0.097568</td>\n",
              "      <td>0.097568</td>\n",
              "      <td>0.000000</td>\n",
              "      <td>0.000000</td>\n",
              "      <td>1</td>\n",
              "    </tr>\n",
              "    <tr>\n",
              "      <th>1101</th>\n",
              "      <td>0.809033</td>\n",
              "      <td>0.0</td>\n",
              "      <td>0.0</td>\n",
              "      <td>0.000000</td>\n",
              "      <td>0.302792</td>\n",
              "      <td>0.829676</td>\n",
              "      <td>0.000000</td>\n",
              "      <td>0.000000</td>\n",
              "      <td>0.0</td>\n",
              "      <td>0.000000</td>\n",
              "      <td>...</td>\n",
              "      <td>0.000000</td>\n",
              "      <td>0.000000</td>\n",
              "      <td>0.000000</td>\n",
              "      <td>0.230251</td>\n",
              "      <td>0.354584</td>\n",
              "      <td>0.000000</td>\n",
              "      <td>0.000000</td>\n",
              "      <td>0.000000</td>\n",
              "      <td>0.000000</td>\n",
              "      <td>0</td>\n",
              "    </tr>\n",
              "    <tr>\n",
              "      <th>1102</th>\n",
              "      <td>0.526269</td>\n",
              "      <td>0.0</td>\n",
              "      <td>0.0</td>\n",
              "      <td>0.000000</td>\n",
              "      <td>0.000000</td>\n",
              "      <td>0.000000</td>\n",
              "      <td>0.000000</td>\n",
              "      <td>0.000000</td>\n",
              "      <td>0.0</td>\n",
              "      <td>0.000000</td>\n",
              "      <td>...</td>\n",
              "      <td>0.000000</td>\n",
              "      <td>0.000000</td>\n",
              "      <td>0.000000</td>\n",
              "      <td>0.000000</td>\n",
              "      <td>0.000000</td>\n",
              "      <td>0.000000</td>\n",
              "      <td>0.000000</td>\n",
              "      <td>0.000000</td>\n",
              "      <td>0.000000</td>\n",
              "      <td>1</td>\n",
              "    </tr>\n",
              "  </tbody>\n",
              "</table>\n",
              "<p>1103 rows × 9217 columns</p>\n",
              "</div>\n",
              "      <button class=\"colab-df-convert\" onclick=\"convertToInteractive('df-2d655c02-3712-4c0a-8a7b-c8a2a6493540')\"\n",
              "              title=\"Convert this dataframe to an interactive table.\"\n",
              "              style=\"display:none;\">\n",
              "        \n",
              "  <svg xmlns=\"http://www.w3.org/2000/svg\" height=\"24px\"viewBox=\"0 0 24 24\"\n",
              "       width=\"24px\">\n",
              "    <path d=\"M0 0h24v24H0V0z\" fill=\"none\"/>\n",
              "    <path d=\"M18.56 5.44l.94 2.06.94-2.06 2.06-.94-2.06-.94-.94-2.06-.94 2.06-2.06.94zm-11 1L8.5 8.5l.94-2.06 2.06-.94-2.06-.94L8.5 2.5l-.94 2.06-2.06.94zm10 10l.94 2.06.94-2.06 2.06-.94-2.06-.94-.94-2.06-.94 2.06-2.06.94z\"/><path d=\"M17.41 7.96l-1.37-1.37c-.4-.4-.92-.59-1.43-.59-.52 0-1.04.2-1.43.59L10.3 9.45l-7.72 7.72c-.78.78-.78 2.05 0 2.83L4 21.41c.39.39.9.59 1.41.59.51 0 1.02-.2 1.41-.59l7.78-7.78 2.81-2.81c.8-.78.8-2.07 0-2.86zM5.41 20L4 18.59l7.72-7.72 1.47 1.35L5.41 20z\"/>\n",
              "  </svg>\n",
              "      </button>\n",
              "      \n",
              "  <style>\n",
              "    .colab-df-container {\n",
              "      display:flex;\n",
              "      flex-wrap:wrap;\n",
              "      gap: 12px;\n",
              "    }\n",
              "\n",
              "    .colab-df-convert {\n",
              "      background-color: #E8F0FE;\n",
              "      border: none;\n",
              "      border-radius: 50%;\n",
              "      cursor: pointer;\n",
              "      display: none;\n",
              "      fill: #1967D2;\n",
              "      height: 32px;\n",
              "      padding: 0 0 0 0;\n",
              "      width: 32px;\n",
              "    }\n",
              "\n",
              "    .colab-df-convert:hover {\n",
              "      background-color: #E2EBFA;\n",
              "      box-shadow: 0px 1px 2px rgba(60, 64, 67, 0.3), 0px 1px 3px 1px rgba(60, 64, 67, 0.15);\n",
              "      fill: #174EA6;\n",
              "    }\n",
              "\n",
              "    [theme=dark] .colab-df-convert {\n",
              "      background-color: #3B4455;\n",
              "      fill: #D2E3FC;\n",
              "    }\n",
              "\n",
              "    [theme=dark] .colab-df-convert:hover {\n",
              "      background-color: #434B5C;\n",
              "      box-shadow: 0px 1px 3px 1px rgba(0, 0, 0, 0.15);\n",
              "      filter: drop-shadow(0px 1px 2px rgba(0, 0, 0, 0.3));\n",
              "      fill: #FFFFFF;\n",
              "    }\n",
              "  </style>\n",
              "\n",
              "      <script>\n",
              "        const buttonEl =\n",
              "          document.querySelector('#df-2d655c02-3712-4c0a-8a7b-c8a2a6493540 button.colab-df-convert');\n",
              "        buttonEl.style.display =\n",
              "          google.colab.kernel.accessAllowed ? 'block' : 'none';\n",
              "\n",
              "        async function convertToInteractive(key) {\n",
              "          const element = document.querySelector('#df-2d655c02-3712-4c0a-8a7b-c8a2a6493540');\n",
              "          const dataTable =\n",
              "            await google.colab.kernel.invokeFunction('convertToInteractive',\n",
              "                                                     [key], {});\n",
              "          if (!dataTable) return;\n",
              "\n",
              "          const docLinkHtml = 'Like what you see? Visit the ' +\n",
              "            '<a target=\"_blank\" href=https://colab.research.google.com/notebooks/data_table.ipynb>data table notebook</a>'\n",
              "            + ' to learn more about interactive tables.';\n",
              "          element.innerHTML = '';\n",
              "          dataTable['output_type'] = 'display_data';\n",
              "          await google.colab.output.renderOutput(dataTable, element);\n",
              "          const docLink = document.createElement('div');\n",
              "          docLink.innerHTML = docLinkHtml;\n",
              "          element.appendChild(docLink);\n",
              "        }\n",
              "      </script>\n",
              "    </div>\n",
              "  </div>\n",
              "  "
            ],
            "text/plain": [
              "             0    1    2         3         4         5         6         7  \\\n",
              "0     0.000000  0.0  0.0  0.000000  0.000000  0.000000  0.000000  0.000000   \n",
              "1     0.000000  0.0  0.0  0.573354  0.777936  0.000000  0.000000  0.000000   \n",
              "2     0.000000  0.0  0.0  0.000000  0.000000  0.000000  0.000000  0.000000   \n",
              "3     0.000000  0.0  0.0  0.000000  0.000000  0.835260  2.686114  0.404865   \n",
              "4     0.000000  0.0  0.0  0.000000  0.000000  0.000000  0.000000  0.000000   \n",
              "...        ...  ...  ...       ...       ...       ...       ...       ...   \n",
              "1098  0.087078  0.0  0.0  0.000000  0.000000  0.000000  0.000000  0.000000   \n",
              "1099  1.439877  0.0  0.0  0.000000  0.000000  0.000000  0.000000  0.000000   \n",
              "1100  0.000000  0.0  0.0  0.000000  0.000000  0.000000  0.000000  0.000000   \n",
              "1101  0.809033  0.0  0.0  0.000000  0.302792  0.829676  0.000000  0.000000   \n",
              "1102  0.526269  0.0  0.0  0.000000  0.000000  0.000000  0.000000  0.000000   \n",
              "\n",
              "        8         9  ...      9207      9208      9209      9210      9211  \\\n",
              "0     0.0  0.000000  ...  0.000000  0.000000  0.163952  0.000000  0.000000   \n",
              "1     0.0  0.000000  ...  0.000000  0.000000  0.245834  0.000000  0.000000   \n",
              "2     0.0  0.000000  ...  2.103850  0.311706  0.291864  1.196880  1.540287   \n",
              "3     0.0  0.000000  ...  0.404696  0.188840  0.000000  0.000000  0.000000   \n",
              "4     0.0  0.037357  ...  0.000000  0.000000  0.000000  0.000000  0.000000   \n",
              "...   ...       ...  ...       ...       ...       ...       ...       ...   \n",
              "1098  0.0  0.000000  ...  0.000000  0.000000  0.000000  0.000000  0.000000   \n",
              "1099  0.0  0.000000  ...  0.000000  0.000000  0.000000  0.692512  0.000000   \n",
              "1100  0.0  0.000000  ...  0.000000  0.000000  0.000000  0.000000  0.000000   \n",
              "1101  0.0  0.000000  ...  0.000000  0.000000  0.000000  0.230251  0.354584   \n",
              "1102  0.0  0.000000  ...  0.000000  0.000000  0.000000  0.000000  0.000000   \n",
              "\n",
              "          9212      9213      9214      9215  class  \n",
              "0     0.000000  0.000000  0.000000  0.000000      1  \n",
              "1     0.000000  0.000000  0.000000  0.000000      0  \n",
              "2     1.325632  2.362518  0.000000  0.000000      1  \n",
              "3     0.000000  0.942901  0.942901  0.000000      0  \n",
              "4     0.000000  0.000000  0.000000  0.000000      1  \n",
              "...        ...       ...       ...       ...    ...  \n",
              "1098  0.000000  0.000000  0.000000  0.004172      0  \n",
              "1099  0.000000  0.000000  0.000000  0.000000      0  \n",
              "1100  0.097568  0.097568  0.000000  0.000000      1  \n",
              "1101  0.000000  0.000000  0.000000  0.000000      0  \n",
              "1102  0.000000  0.000000  0.000000  0.000000      1  \n",
              "\n",
              "[1103 rows x 9217 columns]"
            ]
          },
          "execution_count": 7,
          "metadata": {},
          "output_type": "execute_result"
        }
      ],
      "source": [
        "XGB_test"
      ]
    },
    {
      "cell_type": "code",
      "execution_count": null,
      "id": "36FHXZfcVFcQ",
      "metadata": {
        "id": "36FHXZfcVFcQ"
      },
      "outputs": [],
      "source": [
        "xgb_train = pd.read_pickle(\"/content/xgb_train.pkl\")\n",
        "\n",
        "l=[]\n",
        "for x,y in xgb_train['feature'].iteritems():\n",
        "    l.append(y)\n",
        "    \n",
        "XGB_train = pd.concat([pd.DataFrame(np.array(l)),xgb_train['class']],axis=1)"
      ]
    },
    {
      "cell_type": "code",
      "execution_count": null,
      "id": "kY_Si3ilJIDy",
      "metadata": {
        "id": "kY_Si3ilJIDy"
      },
      "outputs": [],
      "source": [
        "from xgboost import XGBClassifier"
      ]
    },
    {
      "cell_type": "code",
      "execution_count": null,
      "id": "Zag75uoMAET0",
      "metadata": {
        "colab": {
          "base_uri": "https://localhost:8080/"
        },
        "id": "Zag75uoMAET0",
        "outputId": "ceda1c65-612b-4761-c919-d805024711fc"
      },
      "outputs": [
        {
          "data": {
            "text/plain": [
              "XGBClassifier()"
            ]
          },
          "execution_count": 10,
          "metadata": {},
          "output_type": "execute_result"
        }
      ],
      "source": [
        "xgbc = XGBClassifier()\n",
        "xgbc.fit(XGB_train.drop('class',axis=1), XGB_train['class'])"
      ]
    },
    {
      "cell_type": "code",
      "execution_count": null,
      "id": "Zn8hF7cZJPMj",
      "metadata": {
        "id": "Zn8hF7cZJPMj"
      },
      "outputs": [],
      "source": [
        "from sklearn.metrics import confusion_matrix\n",
        "\n",
        "def conf_matrix(y_true, y_pred):\n",
        "        cm = confusion_matrix(y_true, y_pred)\n",
        "        TP = cm[1,1]\n",
        "        TN = cm[0,0]\n",
        "        FP = cm[0,1]\n",
        "        FN = cm[1,0]\n",
        "\n",
        "        accuracy = (TP+TN)/np.sum(cm)\n",
        "        sensitivity = TP/(TP+FN)\n",
        "        specificity = TN/(TN+FP)\n",
        "        precision = TP/(TP+FP)\n",
        "        negative_pred_val = TN/(TN+FN)\n",
        "        recall = sensitivity\n",
        "        f1 = 2 * ((precision * sensitivity) / (precision + sensitivity))\n",
        "        \n",
        "        print(f'0: Benign, 1: Malignant')\n",
        "        print()\n",
        "        print(f'Confusion Matrix:')\n",
        "        print(f'                       predicted ')\n",
        "        print(f'                      0       1         ')\n",
        "        print(f'                  ---------------- ')\n",
        "        print(f'            t  0  |  {TN}  |  {FP}  | ')\n",
        "        print(f'            r     ---------------- ')\n",
        "        print(f'            u  1  |  {FN}   |  {TP} | ')\n",
        "        print(f'            e     ---------------- ')\n",
        "        print()\n",
        "        print(f'Accuracy: {accuracy}')\n",
        "        print(f'Sensitivty: {sensitivity}')\n",
        "        print(f'Specificity: {specificity}')\n",
        "        print(f'Precision: {precision}')\n",
        "        print(f'Negative predictive value:{negative_pred_val}')\n",
        "        print(f'Recall: {recall}')\n",
        "        print(f'F1 score: {f1}')"
      ]
    },
    {
      "cell_type": "code",
      "execution_count": null,
      "id": "W5BGMi0FKiKi",
      "metadata": {
        "colab": {
          "base_uri": "https://localhost:8080/"
        },
        "id": "W5BGMi0FKiKi",
        "outputId": "2fef73b8-146f-4d4b-f5e8-18425748dd23"
      },
      "outputs": [
        {
          "name": "stdout",
          "output_type": "stream",
          "text": [
            "0: Benign, 1: Malignant\n",
            "\n",
            "Confusion Matrix:\n",
            "                       predicted \n",
            "                      0       1         \n",
            "                  ---------------- \n",
            "            t  0  |  296  |  69  | \n",
            "            r     ---------------- \n",
            "            u  1  |  60   |  678 | \n",
            "            e     ---------------- \n",
            "\n",
            "Accuracy: 0.8830462375339981\n",
            "Sensitivty: 0.9186991869918699\n",
            "Specificity: 0.810958904109589\n",
            "Precision: 0.9076305220883534\n",
            "Negative predictive value:0.8314606741573034\n",
            "Recall: 0.9186991869918699\n",
            "F1 score: 0.913131313131313\n"
          ]
        }
      ],
      "source": [
        "xg_pred = xgbc.predict(XGB_test.drop('class',axis=1))\n",
        "conf_matrix(XGB_test['class'], xg_pred)"
      ]
    }
  ],
  "metadata": {
    "accelerator": "GPU",
    "colab": {
      "collapsed_sections": [],
      "name": "Thesis_balanced.ipynb",
      "provenance": []
    },
    "kernelspec": {
      "display_name": "Python 3 (ipykernel)",
      "language": "python",
      "name": "python3"
    },
    "language_info": {
      "codemirror_mode": {
        "name": "ipython",
        "version": 3
      },
      "file_extension": ".py",
      "mimetype": "text/x-python",
      "name": "python",
      "nbconvert_exporter": "python",
      "pygments_lexer": "ipython3",
      "version": "3.9.7"
    },
    "widgets": {
      "application/vnd.jupyter.widget-state+json": {
        "00fa0773cc0743b09fd6fa1edaeb8825": {
          "model_module": "@jupyter-widgets/controls",
          "model_module_version": "1.5.0",
          "model_name": "DescriptionStyleModel",
          "state": {
            "_model_module": "@jupyter-widgets/controls",
            "_model_module_version": "1.5.0",
            "_model_name": "DescriptionStyleModel",
            "_view_count": null,
            "_view_module": "@jupyter-widgets/base",
            "_view_module_version": "1.2.0",
            "_view_name": "StyleView",
            "description_width": ""
          }
        },
        "0779e230f7514f699a094505e8e5652d": {
          "model_module": "@jupyter-widgets/controls",
          "model_module_version": "1.5.0",
          "model_name": "HTMLModel",
          "state": {
            "_dom_classes": [],
            "_model_module": "@jupyter-widgets/controls",
            "_model_module_version": "1.5.0",
            "_model_name": "HTMLModel",
            "_view_count": null,
            "_view_module": "@jupyter-widgets/controls",
            "_view_module_version": "1.5.0",
            "_view_name": "HTMLView",
            "description": "",
            "description_tooltip": null,
            "layout": "IPY_MODEL_3d7e1156357d466498c91937b7de9449",
            "placeholder": "​",
            "style": "IPY_MODEL_f77f93514b304d6d947eb7ab172c1487",
            "value": " 528M/528M [00:03&lt;00:00, 141MB/s]"
          }
        },
        "0963a032641f4cd1893cb7dc12ad10d8": {
          "model_module": "@jupyter-widgets/controls",
          "model_module_version": "1.5.0",
          "model_name": "FloatProgressModel",
          "state": {
            "_dom_classes": [],
            "_model_module": "@jupyter-widgets/controls",
            "_model_module_version": "1.5.0",
            "_model_name": "FloatProgressModel",
            "_view_count": null,
            "_view_module": "@jupyter-widgets/controls",
            "_view_module_version": "1.5.0",
            "_view_name": "ProgressView",
            "bar_style": "success",
            "description": "",
            "description_tooltip": null,
            "layout": "IPY_MODEL_e3ecafa115e34d2aba5f225eda7cbf4d",
            "max": 21444401,
            "min": 0,
            "orientation": "horizontal",
            "style": "IPY_MODEL_b1b8011da8104a3198e7d9684acbc2f0",
            "value": 21444401
          }
        },
        "0b20bc29df6d4c94a127de826f1f72ca": {
          "model_module": "@jupyter-widgets/controls",
          "model_module_version": "1.5.0",
          "model_name": "HTMLModel",
          "state": {
            "_dom_classes": [],
            "_model_module": "@jupyter-widgets/controls",
            "_model_module_version": "1.5.0",
            "_model_name": "HTMLModel",
            "_view_count": null,
            "_view_module": "@jupyter-widgets/controls",
            "_view_module_version": "1.5.0",
            "_view_name": "HTMLView",
            "description": "",
            "description_tooltip": null,
            "layout": "IPY_MODEL_70e03c52980b41edb7160256e9eca2d8",
            "placeholder": "​",
            "style": "IPY_MODEL_9294e2961bb44fcf91a6bcc7b0853859",
            "value": " 20.5M/20.5M [00:00&lt;00:00, 71.4MB/s]"
          }
        },
        "0faadaafc1904d5f897aa24b2d2ec245": {
          "model_module": "@jupyter-widgets/controls",
          "model_module_version": "1.5.0",
          "model_name": "HTMLModel",
          "state": {
            "_dom_classes": [],
            "_model_module": "@jupyter-widgets/controls",
            "_model_module_version": "1.5.0",
            "_model_name": "HTMLModel",
            "_view_count": null,
            "_view_module": "@jupyter-widgets/controls",
            "_view_module_version": "1.5.0",
            "_view_name": "HTMLView",
            "description": "",
            "description_tooltip": null,
            "layout": "IPY_MODEL_af3333783097446cab5f3c3cc0f866e3",
            "placeholder": "​",
            "style": "IPY_MODEL_f352139ea3f14ab9ab5476a9654c0f87",
            "value": "100%"
          }
        },
        "1a6efa1d5e974ee5a99556ea6dd1d2f9": {
          "model_module": "@jupyter-widgets/base",
          "model_module_version": "1.2.0",
          "model_name": "LayoutModel",
          "state": {
            "_model_module": "@jupyter-widgets/base",
            "_model_module_version": "1.2.0",
            "_model_name": "LayoutModel",
            "_view_count": null,
            "_view_module": "@jupyter-widgets/base",
            "_view_module_version": "1.2.0",
            "_view_name": "LayoutView",
            "align_content": null,
            "align_items": null,
            "align_self": null,
            "border": null,
            "bottom": null,
            "display": null,
            "flex": null,
            "flex_flow": null,
            "grid_area": null,
            "grid_auto_columns": null,
            "grid_auto_flow": null,
            "grid_auto_rows": null,
            "grid_column": null,
            "grid_gap": null,
            "grid_row": null,
            "grid_template_areas": null,
            "grid_template_columns": null,
            "grid_template_rows": null,
            "height": null,
            "justify_content": null,
            "justify_items": null,
            "left": null,
            "margin": null,
            "max_height": null,
            "max_width": null,
            "min_height": null,
            "min_width": null,
            "object_fit": null,
            "object_position": null,
            "order": null,
            "overflow": null,
            "overflow_x": null,
            "overflow_y": null,
            "padding": null,
            "right": null,
            "top": null,
            "visibility": null,
            "width": null
          }
        },
        "21a5ff693dd043d998ccab6fa4c219a4": {
          "model_module": "@jupyter-widgets/controls",
          "model_module_version": "1.5.0",
          "model_name": "HTMLModel",
          "state": {
            "_dom_classes": [],
            "_model_module": "@jupyter-widgets/controls",
            "_model_module_version": "1.5.0",
            "_model_name": "HTMLModel",
            "_view_count": null,
            "_view_module": "@jupyter-widgets/controls",
            "_view_module_version": "1.5.0",
            "_view_name": "HTMLView",
            "description": "",
            "description_tooltip": null,
            "layout": "IPY_MODEL_aecde7e9718546e8b7dc3ae59751c593",
            "placeholder": "​",
            "style": "IPY_MODEL_e63244c3fdab40dbb2d3d211a5d6cc3d",
            "value": "100%"
          }
        },
        "2a414cafda9547e4b2aa0f7af6841f7d": {
          "model_module": "@jupyter-widgets/controls",
          "model_module_version": "1.5.0",
          "model_name": "HTMLModel",
          "state": {
            "_dom_classes": [],
            "_model_module": "@jupyter-widgets/controls",
            "_model_module_version": "1.5.0",
            "_model_name": "HTMLModel",
            "_view_count": null,
            "_view_module": "@jupyter-widgets/controls",
            "_view_module_version": "1.5.0",
            "_view_name": "HTMLView",
            "description": "",
            "description_tooltip": null,
            "layout": "IPY_MODEL_3762b35c6a0e4ef4ab1d06aab73d0ba0",
            "placeholder": "​",
            "style": "IPY_MODEL_ace678c18db4411692b5d0738e7b6c56",
            "value": "100%"
          }
        },
        "3762b35c6a0e4ef4ab1d06aab73d0ba0": {
          "model_module": "@jupyter-widgets/base",
          "model_module_version": "1.2.0",
          "model_name": "LayoutModel",
          "state": {
            "_model_module": "@jupyter-widgets/base",
            "_model_module_version": "1.2.0",
            "_model_name": "LayoutModel",
            "_view_count": null,
            "_view_module": "@jupyter-widgets/base",
            "_view_module_version": "1.2.0",
            "_view_name": "LayoutView",
            "align_content": null,
            "align_items": null,
            "align_self": null,
            "border": null,
            "bottom": null,
            "display": null,
            "flex": null,
            "flex_flow": null,
            "grid_area": null,
            "grid_auto_columns": null,
            "grid_auto_flow": null,
            "grid_auto_rows": null,
            "grid_column": null,
            "grid_gap": null,
            "grid_row": null,
            "grid_template_areas": null,
            "grid_template_columns": null,
            "grid_template_rows": null,
            "height": null,
            "justify_content": null,
            "justify_items": null,
            "left": null,
            "margin": null,
            "max_height": null,
            "max_width": null,
            "min_height": null,
            "min_width": null,
            "object_fit": null,
            "object_position": null,
            "order": null,
            "overflow": null,
            "overflow_x": null,
            "overflow_y": null,
            "padding": null,
            "right": null,
            "top": null,
            "visibility": null,
            "width": null
          }
        },
        "3d7e1156357d466498c91937b7de9449": {
          "model_module": "@jupyter-widgets/base",
          "model_module_version": "1.2.0",
          "model_name": "LayoutModel",
          "state": {
            "_model_module": "@jupyter-widgets/base",
            "_model_module_version": "1.2.0",
            "_model_name": "LayoutModel",
            "_view_count": null,
            "_view_module": "@jupyter-widgets/base",
            "_view_module_version": "1.2.0",
            "_view_name": "LayoutView",
            "align_content": null,
            "align_items": null,
            "align_self": null,
            "border": null,
            "bottom": null,
            "display": null,
            "flex": null,
            "flex_flow": null,
            "grid_area": null,
            "grid_auto_columns": null,
            "grid_auto_flow": null,
            "grid_auto_rows": null,
            "grid_column": null,
            "grid_gap": null,
            "grid_row": null,
            "grid_template_areas": null,
            "grid_template_columns": null,
            "grid_template_rows": null,
            "height": null,
            "justify_content": null,
            "justify_items": null,
            "left": null,
            "margin": null,
            "max_height": null,
            "max_width": null,
            "min_height": null,
            "min_width": null,
            "object_fit": null,
            "object_position": null,
            "order": null,
            "overflow": null,
            "overflow_x": null,
            "overflow_y": null,
            "padding": null,
            "right": null,
            "top": null,
            "visibility": null,
            "width": null
          }
        },
        "3f608a42e12844de83ef1e772c9761fb": {
          "model_module": "@jupyter-widgets/base",
          "model_module_version": "1.2.0",
          "model_name": "LayoutModel",
          "state": {
            "_model_module": "@jupyter-widgets/base",
            "_model_module_version": "1.2.0",
            "_model_name": "LayoutModel",
            "_view_count": null,
            "_view_module": "@jupyter-widgets/base",
            "_view_module_version": "1.2.0",
            "_view_name": "LayoutView",
            "align_content": null,
            "align_items": null,
            "align_self": null,
            "border": null,
            "bottom": null,
            "display": null,
            "flex": null,
            "flex_flow": null,
            "grid_area": null,
            "grid_auto_columns": null,
            "grid_auto_flow": null,
            "grid_auto_rows": null,
            "grid_column": null,
            "grid_gap": null,
            "grid_row": null,
            "grid_template_areas": null,
            "grid_template_columns": null,
            "grid_template_rows": null,
            "height": null,
            "justify_content": null,
            "justify_items": null,
            "left": null,
            "margin": null,
            "max_height": null,
            "max_width": null,
            "min_height": null,
            "min_width": null,
            "object_fit": null,
            "object_position": null,
            "order": null,
            "overflow": null,
            "overflow_x": null,
            "overflow_y": null,
            "padding": null,
            "right": null,
            "top": null,
            "visibility": null,
            "width": null
          }
        },
        "4e65ca3ff4d043eab74a6d42627d2032": {
          "model_module": "@jupyter-widgets/controls",
          "model_module_version": "1.5.0",
          "model_name": "ProgressStyleModel",
          "state": {
            "_model_module": "@jupyter-widgets/controls",
            "_model_module_version": "1.5.0",
            "_model_name": "ProgressStyleModel",
            "_view_count": null,
            "_view_module": "@jupyter-widgets/base",
            "_view_module_version": "1.2.0",
            "_view_name": "StyleView",
            "bar_color": null,
            "description_width": ""
          }
        },
        "70e03c52980b41edb7160256e9eca2d8": {
          "model_module": "@jupyter-widgets/base",
          "model_module_version": "1.2.0",
          "model_name": "LayoutModel",
          "state": {
            "_model_module": "@jupyter-widgets/base",
            "_model_module_version": "1.2.0",
            "_model_name": "LayoutModel",
            "_view_count": null,
            "_view_module": "@jupyter-widgets/base",
            "_view_module_version": "1.2.0",
            "_view_name": "LayoutView",
            "align_content": null,
            "align_items": null,
            "align_self": null,
            "border": null,
            "bottom": null,
            "display": null,
            "flex": null,
            "flex_flow": null,
            "grid_area": null,
            "grid_auto_columns": null,
            "grid_auto_flow": null,
            "grid_auto_rows": null,
            "grid_column": null,
            "grid_gap": null,
            "grid_row": null,
            "grid_template_areas": null,
            "grid_template_columns": null,
            "grid_template_rows": null,
            "height": null,
            "justify_content": null,
            "justify_items": null,
            "left": null,
            "margin": null,
            "max_height": null,
            "max_width": null,
            "min_height": null,
            "min_width": null,
            "object_fit": null,
            "object_position": null,
            "order": null,
            "overflow": null,
            "overflow_x": null,
            "overflow_y": null,
            "padding": null,
            "right": null,
            "top": null,
            "visibility": null,
            "width": null
          }
        },
        "7ceedaf94644445fab12dbe1dad96a6d": {
          "model_module": "@jupyter-widgets/base",
          "model_module_version": "1.2.0",
          "model_name": "LayoutModel",
          "state": {
            "_model_module": "@jupyter-widgets/base",
            "_model_module_version": "1.2.0",
            "_model_name": "LayoutModel",
            "_view_count": null,
            "_view_module": "@jupyter-widgets/base",
            "_view_module_version": "1.2.0",
            "_view_name": "LayoutView",
            "align_content": null,
            "align_items": null,
            "align_self": null,
            "border": null,
            "bottom": null,
            "display": null,
            "flex": null,
            "flex_flow": null,
            "grid_area": null,
            "grid_auto_columns": null,
            "grid_auto_flow": null,
            "grid_auto_rows": null,
            "grid_column": null,
            "grid_gap": null,
            "grid_row": null,
            "grid_template_areas": null,
            "grid_template_columns": null,
            "grid_template_rows": null,
            "height": null,
            "justify_content": null,
            "justify_items": null,
            "left": null,
            "margin": null,
            "max_height": null,
            "max_width": null,
            "min_height": null,
            "min_width": null,
            "object_fit": null,
            "object_position": null,
            "order": null,
            "overflow": null,
            "overflow_x": null,
            "overflow_y": null,
            "padding": null,
            "right": null,
            "top": null,
            "visibility": null,
            "width": null
          }
        },
        "85a79bcd3080463a8e4dd0fd358b6202": {
          "model_module": "@jupyter-widgets/controls",
          "model_module_version": "1.5.0",
          "model_name": "FloatProgressModel",
          "state": {
            "_dom_classes": [],
            "_model_module": "@jupyter-widgets/controls",
            "_model_module_version": "1.5.0",
            "_model_name": "FloatProgressModel",
            "_view_count": null,
            "_view_module": "@jupyter-widgets/controls",
            "_view_module_version": "1.5.0",
            "_view_name": "ProgressView",
            "bar_style": "success",
            "description": "",
            "description_tooltip": null,
            "layout": "IPY_MODEL_1a6efa1d5e974ee5a99556ea6dd1d2f9",
            "max": 87319819,
            "min": 0,
            "orientation": "horizontal",
            "style": "IPY_MODEL_4e65ca3ff4d043eab74a6d42627d2032",
            "value": 87319819
          }
        },
        "895d543ad7f34ce3a08abf735a9aa9e8": {
          "model_module": "@jupyter-widgets/controls",
          "model_module_version": "1.5.0",
          "model_name": "HBoxModel",
          "state": {
            "_dom_classes": [],
            "_model_module": "@jupyter-widgets/controls",
            "_model_module_version": "1.5.0",
            "_model_name": "HBoxModel",
            "_view_count": null,
            "_view_module": "@jupyter-widgets/controls",
            "_view_module_version": "1.5.0",
            "_view_name": "HBoxView",
            "box_style": "",
            "children": [
              "IPY_MODEL_21a5ff693dd043d998ccab6fa4c219a4",
              "IPY_MODEL_0963a032641f4cd1893cb7dc12ad10d8",
              "IPY_MODEL_0b20bc29df6d4c94a127de826f1f72ca"
            ],
            "layout": "IPY_MODEL_3f608a42e12844de83ef1e772c9761fb"
          }
        },
        "8b212436854e4ddca9e82dd0f3b571cc": {
          "model_module": "@jupyter-widgets/controls",
          "model_module_version": "1.5.0",
          "model_name": "HTMLModel",
          "state": {
            "_dom_classes": [],
            "_model_module": "@jupyter-widgets/controls",
            "_model_module_version": "1.5.0",
            "_model_name": "HTMLModel",
            "_view_count": null,
            "_view_module": "@jupyter-widgets/controls",
            "_view_module_version": "1.5.0",
            "_view_name": "HTMLView",
            "description": "",
            "description_tooltip": null,
            "layout": "IPY_MODEL_9b95a7a207824db5a6fc5d54e39a637f",
            "placeholder": "​",
            "style": "IPY_MODEL_00fa0773cc0743b09fd6fa1edaeb8825",
            "value": " 83.3M/83.3M [00:01&lt;00:00, 85.7MB/s]"
          }
        },
        "8ba1ff5621434804b1ee26f33c657568": {
          "model_module": "@jupyter-widgets/controls",
          "model_module_version": "1.5.0",
          "model_name": "ProgressStyleModel",
          "state": {
            "_model_module": "@jupyter-widgets/controls",
            "_model_module_version": "1.5.0",
            "_model_name": "ProgressStyleModel",
            "_view_count": null,
            "_view_module": "@jupyter-widgets/base",
            "_view_module_version": "1.2.0",
            "_view_name": "StyleView",
            "bar_color": null,
            "description_width": ""
          }
        },
        "9294e2961bb44fcf91a6bcc7b0853859": {
          "model_module": "@jupyter-widgets/controls",
          "model_module_version": "1.5.0",
          "model_name": "DescriptionStyleModel",
          "state": {
            "_model_module": "@jupyter-widgets/controls",
            "_model_module_version": "1.5.0",
            "_model_name": "DescriptionStyleModel",
            "_view_count": null,
            "_view_module": "@jupyter-widgets/base",
            "_view_module_version": "1.2.0",
            "_view_name": "StyleView",
            "description_width": ""
          }
        },
        "98c0ee0ed8064b3483fa7c6b08334b27": {
          "model_module": "@jupyter-widgets/controls",
          "model_module_version": "1.5.0",
          "model_name": "HBoxModel",
          "state": {
            "_dom_classes": [],
            "_model_module": "@jupyter-widgets/controls",
            "_model_module_version": "1.5.0",
            "_model_name": "HBoxModel",
            "_view_count": null,
            "_view_module": "@jupyter-widgets/controls",
            "_view_module_version": "1.5.0",
            "_view_name": "HBoxView",
            "box_style": "",
            "children": [
              "IPY_MODEL_2a414cafda9547e4b2aa0f7af6841f7d",
              "IPY_MODEL_85a79bcd3080463a8e4dd0fd358b6202",
              "IPY_MODEL_8b212436854e4ddca9e82dd0f3b571cc"
            ],
            "layout": "IPY_MODEL_d4df12fefa05464486b31b9299746917"
          }
        },
        "9b95a7a207824db5a6fc5d54e39a637f": {
          "model_module": "@jupyter-widgets/base",
          "model_module_version": "1.2.0",
          "model_name": "LayoutModel",
          "state": {
            "_model_module": "@jupyter-widgets/base",
            "_model_module_version": "1.2.0",
            "_model_name": "LayoutModel",
            "_view_count": null,
            "_view_module": "@jupyter-widgets/base",
            "_view_module_version": "1.2.0",
            "_view_name": "LayoutView",
            "align_content": null,
            "align_items": null,
            "align_self": null,
            "border": null,
            "bottom": null,
            "display": null,
            "flex": null,
            "flex_flow": null,
            "grid_area": null,
            "grid_auto_columns": null,
            "grid_auto_flow": null,
            "grid_auto_rows": null,
            "grid_column": null,
            "grid_gap": null,
            "grid_row": null,
            "grid_template_areas": null,
            "grid_template_columns": null,
            "grid_template_rows": null,
            "height": null,
            "justify_content": null,
            "justify_items": null,
            "left": null,
            "margin": null,
            "max_height": null,
            "max_width": null,
            "min_height": null,
            "min_width": null,
            "object_fit": null,
            "object_position": null,
            "order": null,
            "overflow": null,
            "overflow_x": null,
            "overflow_y": null,
            "padding": null,
            "right": null,
            "top": null,
            "visibility": null,
            "width": null
          }
        },
        "ace678c18db4411692b5d0738e7b6c56": {
          "model_module": "@jupyter-widgets/controls",
          "model_module_version": "1.5.0",
          "model_name": "DescriptionStyleModel",
          "state": {
            "_model_module": "@jupyter-widgets/controls",
            "_model_module_version": "1.5.0",
            "_model_name": "DescriptionStyleModel",
            "_view_count": null,
            "_view_module": "@jupyter-widgets/base",
            "_view_module_version": "1.2.0",
            "_view_name": "StyleView",
            "description_width": ""
          }
        },
        "aecde7e9718546e8b7dc3ae59751c593": {
          "model_module": "@jupyter-widgets/base",
          "model_module_version": "1.2.0",
          "model_name": "LayoutModel",
          "state": {
            "_model_module": "@jupyter-widgets/base",
            "_model_module_version": "1.2.0",
            "_model_name": "LayoutModel",
            "_view_count": null,
            "_view_module": "@jupyter-widgets/base",
            "_view_module_version": "1.2.0",
            "_view_name": "LayoutView",
            "align_content": null,
            "align_items": null,
            "align_self": null,
            "border": null,
            "bottom": null,
            "display": null,
            "flex": null,
            "flex_flow": null,
            "grid_area": null,
            "grid_auto_columns": null,
            "grid_auto_flow": null,
            "grid_auto_rows": null,
            "grid_column": null,
            "grid_gap": null,
            "grid_row": null,
            "grid_template_areas": null,
            "grid_template_columns": null,
            "grid_template_rows": null,
            "height": null,
            "justify_content": null,
            "justify_items": null,
            "left": null,
            "margin": null,
            "max_height": null,
            "max_width": null,
            "min_height": null,
            "min_width": null,
            "object_fit": null,
            "object_position": null,
            "order": null,
            "overflow": null,
            "overflow_x": null,
            "overflow_y": null,
            "padding": null,
            "right": null,
            "top": null,
            "visibility": null,
            "width": null
          }
        },
        "af3333783097446cab5f3c3cc0f866e3": {
          "model_module": "@jupyter-widgets/base",
          "model_module_version": "1.2.0",
          "model_name": "LayoutModel",
          "state": {
            "_model_module": "@jupyter-widgets/base",
            "_model_module_version": "1.2.0",
            "_model_name": "LayoutModel",
            "_view_count": null,
            "_view_module": "@jupyter-widgets/base",
            "_view_module_version": "1.2.0",
            "_view_name": "LayoutView",
            "align_content": null,
            "align_items": null,
            "align_self": null,
            "border": null,
            "bottom": null,
            "display": null,
            "flex": null,
            "flex_flow": null,
            "grid_area": null,
            "grid_auto_columns": null,
            "grid_auto_flow": null,
            "grid_auto_rows": null,
            "grid_column": null,
            "grid_gap": null,
            "grid_row": null,
            "grid_template_areas": null,
            "grid_template_columns": null,
            "grid_template_rows": null,
            "height": null,
            "justify_content": null,
            "justify_items": null,
            "left": null,
            "margin": null,
            "max_height": null,
            "max_width": null,
            "min_height": null,
            "min_width": null,
            "object_fit": null,
            "object_position": null,
            "order": null,
            "overflow": null,
            "overflow_x": null,
            "overflow_y": null,
            "padding": null,
            "right": null,
            "top": null,
            "visibility": null,
            "width": null
          }
        },
        "b1b8011da8104a3198e7d9684acbc2f0": {
          "model_module": "@jupyter-widgets/controls",
          "model_module_version": "1.5.0",
          "model_name": "ProgressStyleModel",
          "state": {
            "_model_module": "@jupyter-widgets/controls",
            "_model_module_version": "1.5.0",
            "_model_name": "ProgressStyleModel",
            "_view_count": null,
            "_view_module": "@jupyter-widgets/base",
            "_view_module_version": "1.2.0",
            "_view_name": "StyleView",
            "bar_color": null,
            "description_width": ""
          }
        },
        "c0ccf4a408de4a1c899a4f67ecd0333d": {
          "model_module": "@jupyter-widgets/controls",
          "model_module_version": "1.5.0",
          "model_name": "HBoxModel",
          "state": {
            "_dom_classes": [],
            "_model_module": "@jupyter-widgets/controls",
            "_model_module_version": "1.5.0",
            "_model_name": "HBoxModel",
            "_view_count": null,
            "_view_module": "@jupyter-widgets/controls",
            "_view_module_version": "1.5.0",
            "_view_name": "HBoxView",
            "box_style": "",
            "children": [
              "IPY_MODEL_0faadaafc1904d5f897aa24b2d2ec245",
              "IPY_MODEL_db19e1930770494fbfd30ed70c2e832d",
              "IPY_MODEL_0779e230f7514f699a094505e8e5652d"
            ],
            "layout": "IPY_MODEL_7ceedaf94644445fab12dbe1dad96a6d"
          }
        },
        "d4df12fefa05464486b31b9299746917": {
          "model_module": "@jupyter-widgets/base",
          "model_module_version": "1.2.0",
          "model_name": "LayoutModel",
          "state": {
            "_model_module": "@jupyter-widgets/base",
            "_model_module_version": "1.2.0",
            "_model_name": "LayoutModel",
            "_view_count": null,
            "_view_module": "@jupyter-widgets/base",
            "_view_module_version": "1.2.0",
            "_view_name": "LayoutView",
            "align_content": null,
            "align_items": null,
            "align_self": null,
            "border": null,
            "bottom": null,
            "display": null,
            "flex": null,
            "flex_flow": null,
            "grid_area": null,
            "grid_auto_columns": null,
            "grid_auto_flow": null,
            "grid_auto_rows": null,
            "grid_column": null,
            "grid_gap": null,
            "grid_row": null,
            "grid_template_areas": null,
            "grid_template_columns": null,
            "grid_template_rows": null,
            "height": null,
            "justify_content": null,
            "justify_items": null,
            "left": null,
            "margin": null,
            "max_height": null,
            "max_width": null,
            "min_height": null,
            "min_width": null,
            "object_fit": null,
            "object_position": null,
            "order": null,
            "overflow": null,
            "overflow_x": null,
            "overflow_y": null,
            "padding": null,
            "right": null,
            "top": null,
            "visibility": null,
            "width": null
          }
        },
        "db19e1930770494fbfd30ed70c2e832d": {
          "model_module": "@jupyter-widgets/controls",
          "model_module_version": "1.5.0",
          "model_name": "FloatProgressModel",
          "state": {
            "_dom_classes": [],
            "_model_module": "@jupyter-widgets/controls",
            "_model_module_version": "1.5.0",
            "_model_name": "FloatProgressModel",
            "_view_count": null,
            "_view_module": "@jupyter-widgets/controls",
            "_view_module_version": "1.5.0",
            "_view_name": "ProgressView",
            "bar_style": "success",
            "description": "",
            "description_tooltip": null,
            "layout": "IPY_MODEL_dbe9709f6b1d4c0bbd1f023dbc1c0d8c",
            "max": 553433881,
            "min": 0,
            "orientation": "horizontal",
            "style": "IPY_MODEL_8ba1ff5621434804b1ee26f33c657568",
            "value": 553433881
          }
        },
        "dbe9709f6b1d4c0bbd1f023dbc1c0d8c": {
          "model_module": "@jupyter-widgets/base",
          "model_module_version": "1.2.0",
          "model_name": "LayoutModel",
          "state": {
            "_model_module": "@jupyter-widgets/base",
            "_model_module_version": "1.2.0",
            "_model_name": "LayoutModel",
            "_view_count": null,
            "_view_module": "@jupyter-widgets/base",
            "_view_module_version": "1.2.0",
            "_view_name": "LayoutView",
            "align_content": null,
            "align_items": null,
            "align_self": null,
            "border": null,
            "bottom": null,
            "display": null,
            "flex": null,
            "flex_flow": null,
            "grid_area": null,
            "grid_auto_columns": null,
            "grid_auto_flow": null,
            "grid_auto_rows": null,
            "grid_column": null,
            "grid_gap": null,
            "grid_row": null,
            "grid_template_areas": null,
            "grid_template_columns": null,
            "grid_template_rows": null,
            "height": null,
            "justify_content": null,
            "justify_items": null,
            "left": null,
            "margin": null,
            "max_height": null,
            "max_width": null,
            "min_height": null,
            "min_width": null,
            "object_fit": null,
            "object_position": null,
            "order": null,
            "overflow": null,
            "overflow_x": null,
            "overflow_y": null,
            "padding": null,
            "right": null,
            "top": null,
            "visibility": null,
            "width": null
          }
        },
        "e3ecafa115e34d2aba5f225eda7cbf4d": {
          "model_module": "@jupyter-widgets/base",
          "model_module_version": "1.2.0",
          "model_name": "LayoutModel",
          "state": {
            "_model_module": "@jupyter-widgets/base",
            "_model_module_version": "1.2.0",
            "_model_name": "LayoutModel",
            "_view_count": null,
            "_view_module": "@jupyter-widgets/base",
            "_view_module_version": "1.2.0",
            "_view_name": "LayoutView",
            "align_content": null,
            "align_items": null,
            "align_self": null,
            "border": null,
            "bottom": null,
            "display": null,
            "flex": null,
            "flex_flow": null,
            "grid_area": null,
            "grid_auto_columns": null,
            "grid_auto_flow": null,
            "grid_auto_rows": null,
            "grid_column": null,
            "grid_gap": null,
            "grid_row": null,
            "grid_template_areas": null,
            "grid_template_columns": null,
            "grid_template_rows": null,
            "height": null,
            "justify_content": null,
            "justify_items": null,
            "left": null,
            "margin": null,
            "max_height": null,
            "max_width": null,
            "min_height": null,
            "min_width": null,
            "object_fit": null,
            "object_position": null,
            "order": null,
            "overflow": null,
            "overflow_x": null,
            "overflow_y": null,
            "padding": null,
            "right": null,
            "top": null,
            "visibility": null,
            "width": null
          }
        },
        "e63244c3fdab40dbb2d3d211a5d6cc3d": {
          "model_module": "@jupyter-widgets/controls",
          "model_module_version": "1.5.0",
          "model_name": "DescriptionStyleModel",
          "state": {
            "_model_module": "@jupyter-widgets/controls",
            "_model_module_version": "1.5.0",
            "_model_name": "DescriptionStyleModel",
            "_view_count": null,
            "_view_module": "@jupyter-widgets/base",
            "_view_module_version": "1.2.0",
            "_view_name": "StyleView",
            "description_width": ""
          }
        },
        "f352139ea3f14ab9ab5476a9654c0f87": {
          "model_module": "@jupyter-widgets/controls",
          "model_module_version": "1.5.0",
          "model_name": "DescriptionStyleModel",
          "state": {
            "_model_module": "@jupyter-widgets/controls",
            "_model_module_version": "1.5.0",
            "_model_name": "DescriptionStyleModel",
            "_view_count": null,
            "_view_module": "@jupyter-widgets/base",
            "_view_module_version": "1.2.0",
            "_view_name": "StyleView",
            "description_width": ""
          }
        },
        "f77f93514b304d6d947eb7ab172c1487": {
          "model_module": "@jupyter-widgets/controls",
          "model_module_version": "1.5.0",
          "model_name": "DescriptionStyleModel",
          "state": {
            "_model_module": "@jupyter-widgets/controls",
            "_model_module_version": "1.5.0",
            "_model_name": "DescriptionStyleModel",
            "_view_count": null,
            "_view_module": "@jupyter-widgets/base",
            "_view_module_version": "1.2.0",
            "_view_name": "StyleView",
            "description_width": ""
          }
        }
      }
    }
  },
  "nbformat": 4,
  "nbformat_minor": 5
}
